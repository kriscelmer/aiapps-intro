{
 "cells": [
  {
   "cell_type": "markdown",
   "id": "3a1fedea",
   "metadata": {},
   "source": [
    "# Prompt templates"
   ]
  },
  {
   "cell_type": "code",
   "execution_count": null,
   "id": "9d03a731",
   "metadata": {
    "ExecuteTime": {
     "end_time": "2023-07-30T10:38:56.599435Z",
     "start_time": "2023-07-30T10:38:56.594041Z"
    }
   },
   "outputs": [],
   "source": [
    "import os\n",
    "import openai\n",
    "from IPython.display import display, HTML, Markdown\n",
    "from pprint import pprint\n",
    "\n",
    "from dotenv import load_dotenv, find_dotenv\n",
    "_ = load_dotenv(find_dotenv()) # read local .env file\n",
    "openai.api_key = os.environ['OPENAI_API_KEY']"
   ]
  },
  {
   "cell_type": "code",
   "execution_count": null,
   "id": "e833493d",
   "metadata": {
    "ExecuteTime": {
     "end_time": "2023-07-30T10:38:58.286614Z",
     "start_time": "2023-07-30T10:38:58.282377Z"
    },
    "hide_input": false
   },
   "outputs": [],
   "source": [
    "from langchain.chat_models import ChatOpenAI\n",
    "from langchain.schema import HumanMessage, AIMessage\n",
    "from langchain.callbacks import get_openai_callback\n",
    "\n",
    "total_cost = 0.0\n",
    "\n",
    "def get_response(prompt: str, temperature=0.0) -> str:\n",
    "    global total_cost\n",
    "    \n",
    "    chat_llm = ChatOpenAI(temperature=temperature)\n",
    "    input_messages = [HumanMessage(content=prompt)]\n",
    "\n",
    "    with get_openai_callback() as cb:\n",
    "        output_message = chat_llm(input_messages)\n",
    "        \n",
    "    total_cost += cb.total_cost\n",
    "    \n",
    "    return output_message.content"
   ]
  },
  {
   "cell_type": "markdown",
   "id": "20152041",
   "metadata": {},
   "source": [
    "API Reference for `PromptTemplate` is [here](https://api.python.langchain.com/en/latest/prompts/langchain.prompts.prompt.PromptTemplate.html)"
   ]
  },
  {
   "cell_type": "code",
   "execution_count": null,
   "id": "a622a91f",
   "metadata": {
    "ExecuteTime": {
     "end_time": "2023-07-30T10:39:06.263398Z",
     "start_time": "2023-07-30T10:39:06.260265Z"
    },
    "hide_input": true
   },
   "outputs": [],
   "source": [
    "from langchain.prompts import PromptTemplate\n",
    "\n",
    "simple_sentiment_analysis_template_text = \"\"\"\n",
    "Analyse a sentiment of the customer review:\n",
    "\n",
    "<review>\n",
    "{review}\n",
    "</review>\n",
    "\n",
    "Output a single word: positive, neutral or negative.\n",
    "\"\"\"\n",
    "\n",
    "simple_sentiment_analysis_template = PromptTemplate(\n",
    "    input_variables=[\"review\"],\n",
    "    template=simple_sentiment_analysis_template_text\n",
    ")"
   ]
  },
  {
   "cell_type": "code",
   "execution_count": null,
   "id": "60418019",
   "metadata": {
    "ExecuteTime": {
     "end_time": "2023-07-30T10:39:08.312439Z",
     "start_time": "2023-07-30T10:39:08.309550Z"
    }
   },
   "outputs": [],
   "source": [
    "print(\n",
    "    simple_sentiment_analysis_template.format(review=\"this is a review.\")\n",
    ")"
   ]
  },
  {
   "cell_type": "code",
   "execution_count": null,
   "id": "a204d5e9",
   "metadata": {
    "ExecuteTime": {
     "end_time": "2023-07-30T10:39:21.476356Z",
     "start_time": "2023-07-30T10:39:21.470122Z"
    },
    "tags": [
     "hide-cell"
    ]
   },
   "outputs": [],
   "source": [
    "simple_sentiment_analysis_template = PromptTemplate.from_template(\n",
    "    simple_sentiment_analysis_template_text\n",
    ")\n",
    "\n",
    "simple_sentiment_analysis_template.input_variables"
   ]
  },
  {
   "cell_type": "code",
   "execution_count": null,
   "id": "bd34a0c1",
   "metadata": {
    "ExecuteTime": {
     "end_time": "2023-07-30T10:39:31.374494Z",
     "start_time": "2023-07-30T10:39:31.371790Z"
    }
   },
   "outputs": [],
   "source": [
    "print(\n",
    "    simple_sentiment_analysis_template.format(review=\"this is a review.\")\n",
    ")"
   ]
  },
  {
   "cell_type": "markdown",
   "id": "e42f2085",
   "metadata": {},
   "source": [
    "Read example customer reviews from file `Reviews3.csv`"
   ]
  },
  {
   "cell_type": "code",
   "execution_count": null,
   "id": "f144a3aa",
   "metadata": {
    "ExecuteTime": {
     "end_time": "2023-07-30T10:40:13.091224Z",
     "start_time": "2023-07-30T10:40:13.087128Z"
    }
   },
   "outputs": [],
   "source": [
    "with open('./Reviews3.csv', 'r', encoding='UTF-8') as file:\n",
    "    reviews = [line.rstrip() for line in file]"
   ]
  },
  {
   "cell_type": "code",
   "execution_count": null,
   "id": "77063afb",
   "metadata": {
    "ExecuteTime": {
     "end_time": "2023-07-30T10:40:18.375527Z",
     "start_time": "2023-07-30T10:40:18.372792Z"
    }
   },
   "outputs": [],
   "source": [
    "print(\n",
    "    simple_sentiment_analysis_template.format(review=reviews[0])\n",
    ")"
   ]
  },
  {
   "cell_type": "code",
   "execution_count": null,
   "id": "975ab6ea",
   "metadata": {
    "ExecuteTime": {
     "end_time": "2023-07-30T10:40:25.423925Z",
     "start_time": "2023-07-30T10:40:23.019458Z"
    }
   },
   "outputs": [],
   "source": [
    "for review in reviews[:3]:\n",
    "    response = get_response(\n",
    "        simple_sentiment_analysis_template.format(review=review)\n",
    "    )\n",
    "    print(f\"{review:50.50}... - {response}\")"
   ]
  },
  {
   "cell_type": "markdown",
   "id": "ca7babfe",
   "metadata": {},
   "source": [
    "## Multiple input variables"
   ]
  },
  {
   "cell_type": "code",
   "execution_count": null,
   "id": "2355920e",
   "metadata": {
    "ExecuteTime": {
     "end_time": "2023-07-30T10:40:35.729867Z",
     "start_time": "2023-07-30T10:40:35.726688Z"
    }
   },
   "outputs": [],
   "source": [
    "translate_text_template_text = \"\"\"\n",
    "Translate the text below to {language}.\n",
    "\n",
    "<text>\n",
    "{text}\n",
    "</text>\n",
    "\"\"\"\n",
    "\n",
    "translate_text_template = PromptTemplate.from_template(\n",
    "    translate_text_template_text\n",
    ")\n",
    "\n",
    "print(translate_text_template.input_variables)"
   ]
  },
  {
   "cell_type": "code",
   "execution_count": null,
   "id": "52a9f2cb",
   "metadata": {
    "ExecuteTime": {
     "end_time": "2023-07-30T10:40:38.737057Z",
     "start_time": "2023-07-30T10:40:38.733964Z"
    }
   },
   "outputs": [],
   "source": [
    "print(translate_text_template.format(\n",
    "    language=\"French\",\n",
    "    text=reviews[1]\n",
    "))"
   ]
  },
  {
   "cell_type": "code",
   "execution_count": null,
   "id": "d7797791",
   "metadata": {
    "ExecuteTime": {
     "end_time": "2023-07-30T10:40:44.451155Z",
     "start_time": "2023-07-30T10:40:44.448177Z"
    }
   },
   "outputs": [],
   "source": [
    "print(translate_text_template.format(\n",
    "    language=\"Italian\",\n",
    "    text=reviews[0]\n",
    "))"
   ]
  },
  {
   "cell_type": "code",
   "execution_count": null,
   "id": "ed5719c6",
   "metadata": {
    "ExecuteTime": {
     "end_time": "2023-07-30T10:40:51.231804Z",
     "start_time": "2023-07-30T10:40:49.052074Z"
    }
   },
   "outputs": [],
   "source": [
    "response = get_response(\n",
    "    translate_text_template.format(\n",
    "        language=\"Italian\",\n",
    "        text=reviews[0]\n",
    "    )\n",
    ")\n",
    "\n",
    "print(response)"
   ]
  },
  {
   "cell_type": "code",
   "execution_count": null,
   "id": "3bdd11e2",
   "metadata": {
    "jupyter": {
     "source_hidden": true
    }
   },
   "outputs": [],
   "source": []
  },
  {
   "cell_type": "code",
   "execution_count": null,
   "id": "5d6ce646-8881-4ad3-a4b4-babc572ac0b7",
   "metadata": {},
   "outputs": [],
   "source": [
    "print(f\"Total cost of running this notebook: ${total_cost:.6f}\")"
   ]
  },
  {
   "cell_type": "code",
   "execution_count": null,
   "id": "376f393c-133a-47bb-a934-9c0c756c6e51",
   "metadata": {},
   "outputs": [],
   "source": []
  }
 ],
 "metadata": {
  "hide_input": false,
  "kernelspec": {
   "display_name": "Python 3 (ipykernel)",
   "language": "python",
   "name": "python3"
  },
  "language_info": {
   "codemirror_mode": {
    "name": "ipython",
    "version": 3
   },
   "file_extension": ".py",
   "mimetype": "text/x-python",
   "name": "python",
   "nbconvert_exporter": "python",
   "pygments_lexer": "ipython3",
   "version": "3.11.4"
  },
  "toc": {
   "base_numbering": 1,
   "nav_menu": {},
   "number_sections": true,
   "sideBar": true,
   "skip_h1_title": false,
   "title_cell": "Table of Contents",
   "title_sidebar": "Contents",
   "toc_cell": false,
   "toc_position": {},
   "toc_section_display": true,
   "toc_window_display": false
  }
 },
 "nbformat": 4,
 "nbformat_minor": 5
}
