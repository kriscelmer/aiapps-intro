{
 "cells": [
  {
   "cell_type": "markdown",
   "id": "551c6b3d",
   "metadata": {},
   "source": [
    "# Basic prompt tactics"
   ]
  },
  {
   "cell_type": "code",
   "execution_count": null,
   "id": "5b9bb476",
   "metadata": {},
   "outputs": [],
   "source": [
    "import os\n",
    "import openai\n",
    "from IPython.display import display, HTML, Markdown\n",
    "from pprint import pprint\n",
    "\n",
    "from dotenv import load_dotenv, find_dotenv\n",
    "_ = load_dotenv(find_dotenv()) # read local .env file\n",
    "openai.api_key = os.environ['OPENAI_API_KEY']"
   ]
  },
  {
   "cell_type": "code",
   "execution_count": null,
   "id": "fd3ec239",
   "metadata": {},
   "outputs": [],
   "source": [
    "from langchain.chat_models import ChatOpenAI\n",
    "from langchain.schema import HumanMessage, AIMessage\n",
    "from langchain.callbacks import get_openai_callback\n",
    "\n",
    "total_cost = 0.0\n",
    "\n",
    "def get_response(prompt: str, temperature=0.0) -> str:\n",
    "    global total_cost\n",
    "    \n",
    "    chat_llm = ChatOpenAI(temperature=temperature)\n",
    "    input_messages = [HumanMessage(content=prompt)]\n",
    "\n",
    "    with get_openai_callback() as cb:\n",
    "        output_message = chat_llm(input_messages)\n",
    "        \n",
    "    total_cost += cb.total_cost\n",
    "    \n",
    "    return output_message.content"
   ]
  },
  {
   "cell_type": "markdown",
   "id": "19341f30",
   "metadata": {},
   "source": [
    "## Temperature"
   ]
  },
  {
   "cell_type": "code",
   "execution_count": null,
   "id": "f3433b0e",
   "metadata": {},
   "outputs": [],
   "source": [
    "response = get_response(\"\"\"\n",
    "Summarize the text below in one sentence.\n",
    "\n",
    "Classes provide a means of bundling data and functionality together. \n",
    "Creating a new class creates a new type of object, allowing new instances of that type to be made. \n",
    "Each class instance can have attributes attached to it for maintaining its state. \n",
    "Class instances can also have methods (defined by its class) for modifying its state.\n",
    "Compared with other programming languages, Python’s class mechanism adds classes with \n",
    "a minimum of new syntax and semantics. It is a mixture of the class mechanisms found \n",
    "in C++ and Modula-3. Python classes provide all the standard features \n",
    "of Object Oriented Programming: the class inheritance mechanism allows multiple base classes, \n",
    "a derived class can override any methods of its base class or classes, \n",
    "and a method can call the method of a base class with the same name. \n",
    "Objects can contain arbitrary amounts and kinds of data. \n",
    "As is true for modules, classes partake of the dynamic nature of Python: \n",
    "they are created at runtime, and can be modified further after creation.\n",
    "\"\"\")\n",
    "\n",
    "display(Markdown(response))"
   ]
  },
  {
   "cell_type": "code",
   "execution_count": null,
   "id": "b4c5c882",
   "metadata": {},
   "outputs": [],
   "source": [
    "response = get_response(\"\"\"\n",
    "Summarize the text below in one sentence.\n",
    "\n",
    "Classes provide a means of bundling data and functionality together. \n",
    "Creating a new class creates a new type of object, allowing new instances of that type to be made. \n",
    "Each class instance can have attributes attached to it for maintaining its state. \n",
    "Class instances can also have methods (defined by its class) for modifying its state.\n",
    "Compared with other programming languages, Python’s class mechanism adds classes with \n",
    "a minimum of new syntax and semantics. It is a mixture of the class mechanisms found \n",
    "in C++ and Modula-3. Python classes provide all the standard features \n",
    "of Object Oriented Programming: the class inheritance mechanism allows multiple base classes, \n",
    "a derived class can override any methods of its base class or classes, \n",
    "and a method can call the method of a base class with the same name. \n",
    "Objects can contain arbitrary amounts and kinds of data. \n",
    "As is true for modules, classes partake of the dynamic nature of Python: \n",
    "they are created at runtime, and can be modified further after creation.\n",
    "\"\"\")\n",
    "\n",
    "display(Markdown(response))"
   ]
  },
  {
   "cell_type": "code",
   "execution_count": null,
   "id": "fa1747da",
   "metadata": {},
   "outputs": [],
   "source": [
    "response = get_response(\"\"\"\n",
    "Summarize the text below in one sentence.\n",
    "\n",
    "Classes provide a means of bundling data and functionality together. \n",
    "Creating a new class creates a new type of object, allowing new instances of that type to be made. \n",
    "Each class instance can have attributes attached to it for maintaining its state. \n",
    "Class instances can also have methods (defined by its class) for modifying its state.\n",
    "Compared with other programming languages, Python’s class mechanism adds classes with \n",
    "a minimum of new syntax and semantics. It is a mixture of the class mechanisms found \n",
    "in C++ and Modula-3. Python classes provide all the standard features \n",
    "of Object Oriented Programming: the class inheritance mechanism allows multiple base classes, \n",
    "a derived class can override any methods of its base class or classes, \n",
    "and a method can call the method of a base class with the same name. \n",
    "Objects can contain arbitrary amounts and kinds of data. \n",
    "As is true for modules, classes partake of the dynamic nature of Python: \n",
    "they are created at runtime, and can be modified further after creation.\n",
    "\"\"\", \n",
    "    temperature=0.9\n",
    ")\n",
    "\n",
    "display(Markdown(response))"
   ]
  },
  {
   "cell_type": "code",
   "execution_count": null,
   "id": "e14add34",
   "metadata": {},
   "outputs": [],
   "source": [
    "response = get_response(\"\"\"\n",
    "Summarize the text below in one sentence.\n",
    "\n",
    "Classes provide a means of bundling data and functionality together. \n",
    "Creating a new class creates a new type of object, allowing new instances of that type to be made. \n",
    "Each class instance can have attributes attached to it for maintaining its state. \n",
    "Class instances can also have methods (defined by its class) for modifying its state.\n",
    "Compared with other programming languages, Python’s class mechanism adds classes with \n",
    "a minimum of new syntax and semantics. It is a mixture of the class mechanisms found \n",
    "in C++ and Modula-3. Python classes provide all the standard features \n",
    "of Object Oriented Programming: the class inheritance mechanism allows multiple base classes, \n",
    "a derived class can override any methods of its base class or classes, \n",
    "and a method can call the method of a base class with the same name. \n",
    "Objects can contain arbitrary amounts and kinds of data. \n",
    "As is true for modules, classes partake of the dynamic nature of Python: \n",
    "they are created at runtime, and can be modified further after creation.\n",
    "\"\"\", \n",
    "    temperature=0.9\n",
    ")\n",
    "\n",
    "display(Markdown(response))"
   ]
  },
  {
   "cell_type": "markdown",
   "id": "bfd3ad32",
   "metadata": {},
   "source": [
    "## Clear, Concise and Specific"
   ]
  },
  {
   "cell_type": "code",
   "execution_count": null,
   "id": "9e536010",
   "metadata": {},
   "outputs": [],
   "source": [
    "response = get_response(\"\"\"\n",
    "I'm thinking about writting a Python program. \n",
    "It will be a powerful web application with lots of functionality.\n",
    "I hope I will make tons of money by selling this program.\n",
    "Friend of mine told me I need to understand lists.\n",
    "What are they?\n",
    "\"\"\")\n",
    "\n",
    "display(Markdown(response))"
   ]
  },
  {
   "cell_type": "code",
   "execution_count": null,
   "id": "8a8bc7b6",
   "metadata": {},
   "outputs": [],
   "source": [
    "response = get_response(\"\"\"\n",
    "Explain a Python list to an aspiring programmer.\n",
    "\"\"\")\n",
    "\n",
    "display(Markdown(response))"
   ]
  },
  {
   "cell_type": "markdown",
   "id": "ae2662e7",
   "metadata": {},
   "source": [
    "## Elements of the Prompt"
   ]
  },
  {
   "cell_type": "markdown",
   "id": "a9ef10d9",
   "metadata": {},
   "source": [
    "### 1. Set the tone"
   ]
  },
  {
   "cell_type": "code",
   "execution_count": null,
   "id": "927e74c0",
   "metadata": {},
   "outputs": [],
   "source": [
    "response = get_response(\"\"\"\n",
    "Act as a very experienced senior Python developer to answer the question below.\n",
    "\n",
    "Explain a Python list to an aspiring programmer.\n",
    "\"\"\")\n",
    "\n",
    "display(Markdown(response))"
   ]
  },
  {
   "cell_type": "code",
   "execution_count": null,
   "id": "5454f394",
   "metadata": {},
   "outputs": [],
   "source": [
    "response = get_response(\"\"\"\n",
    "Act as a comedian to answer the question below.\n",
    "\n",
    "Explain a Python list to an aspiring programmer.\n",
    "\"\"\")\n",
    "\n",
    "display(Markdown(response))"
   ]
  },
  {
   "cell_type": "markdown",
   "id": "77e64e9c",
   "metadata": {},
   "source": [
    "### 2. Instruction"
   ]
  },
  {
   "cell_type": "code",
   "execution_count": null,
   "id": "86ba65ca",
   "metadata": {},
   "outputs": [],
   "source": [
    "response = get_response(\"\"\"\n",
    "Summarize the customer review:\n",
    "\n",
    "I recently purchased the VisionCast UltraView 55 and I'm thrilled with the quality. \n",
    "The picture is crystal clear and the smart features are easy to navigate. \n",
    "Great value for the price! - John, New York\n",
    "\"\"\")\n",
    "\n",
    "display(Markdown(response))"
   ]
  },
  {
   "cell_type": "code",
   "execution_count": null,
   "id": "39975213",
   "metadata": {},
   "outputs": [],
   "source": [
    "response = get_response(\"\"\"\n",
    "Translate the customer review to Korean:\n",
    "\n",
    "I recently purchased the VisionCast UltraView 55 and I'm thrilled with the quality. \n",
    "The picture is crystal clear and the smart features are easy to navigate. \n",
    "Great value for the price! - John, New York\n",
    "\"\"\")\n",
    "\n",
    "display(Markdown(response))"
   ]
  },
  {
   "cell_type": "code",
   "execution_count": null,
   "id": "b1dd9d50",
   "metadata": {},
   "outputs": [],
   "source": [
    "response = get_response(\"\"\"\n",
    "Classify the text below using categories: \n",
    "Poem, Weather forecast, Customer Review, Product description, Other.\n",
    "\n",
    "I recently purchased the VisionCast UltraView 55 and I'm thrilled with the quality. \n",
    "The picture is crystal clear and the smart features are easy to navigate. \n",
    "Great value for the price! - John, New York\n",
    "\"\"\")\n",
    "\n",
    "display(Markdown(response))"
   ]
  },
  {
   "cell_type": "code",
   "execution_count": null,
   "id": "f4bf58a4",
   "metadata": {},
   "outputs": [],
   "source": [
    "response = get_response(\"\"\"\n",
    "Extract product name from the text below:\n",
    "\n",
    "I recently purchased the VisionCast UltraView 55 and I'm thrilled with the quality. \n",
    "The picture is crystal clear and the smart features are easy to navigate. \n",
    "Great value for the price! - John, New York\n",
    "\"\"\")\n",
    "\n",
    "display(Markdown(response))"
   ]
  },
  {
   "cell_type": "code",
   "execution_count": null,
   "id": "b769ec33",
   "metadata": {},
   "outputs": [],
   "source": [
    "response = get_response(\"\"\"\n",
    "Analyse a sentiment of the customer review:\n",
    "\n",
    "I recently purchased the VisionCast UltraView 55 and I'm thrilled with the quality. \n",
    "The picture is crystal clear and the smart features are easy to navigate. \n",
    "Great value for the price! - John, New York\n",
    "\"\"\")\n",
    "\n",
    "display(Markdown(response))"
   ]
  },
  {
   "cell_type": "markdown",
   "id": "04793174",
   "metadata": {},
   "source": [
    "### 3. Output format"
   ]
  },
  {
   "cell_type": "code",
   "execution_count": null,
   "id": "064fff6b",
   "metadata": {},
   "outputs": [],
   "source": [
    "response = get_response(\"\"\"\n",
    "Act as an experienced product manager.\n",
    "Analyse customer reviews in context below, delimited by === \n",
    "and tell if quality of VisionCast products is good or bad\n",
    "and list 3 best and 3 worst products.\n",
    "\n",
    "Context:\n",
    "===\n",
    "I recently purchased the VisionCast UltraView 55 and I'm thrilled with the quality. \n",
    "The picture is crystal clear and the smart features are easy to navigate. \n",
    "Great value for the price! - John, New York\n",
    "\n",
    "I'm not happy with the VisionCast UltraView 43\". \n",
    "The picture quality is subpar and the TV arrived with a scratch on the screen. \n",
    "I expected better quality control. - Sarah, Los Angeles\n",
    "\n",
    "I bought the VisionCast UltraView 75\" and it's just okay. \n",
    "The picture quality is good, but the smart features are a bit complicated to navigate. - Mike, Chicago\n",
    "\n",
    "I bought the VisionCast UltraView 32\" for my bedroom and it's perfect. \n",
    "The compact design fits well and the picture quality is great for the price. - Lisa, San Francisco\n",
    "===\n",
    "\"\"\")\n",
    "\n",
    "display(Markdown(response))"
   ]
  },
  {
   "cell_type": "code",
   "execution_count": null,
   "id": "4c3d2828",
   "metadata": {},
   "outputs": [],
   "source": [
    "response = get_response(\"\"\"\n",
    "Analyse a sentiment of the customer review:\n",
    "\n",
    "I recently purchased the VisionCast UltraView 55 and I'm thrilled with the quality. \n",
    "The picture is crystal clear and the smart features are easy to navigate. \n",
    "Great value for the price! - John, New York\n",
    "\n",
    "Output a single word: positive, neutral or negative.\n",
    "\"\"\")\n",
    "\n",
    "display(Markdown(response))"
   ]
  },
  {
   "cell_type": "code",
   "execution_count": null,
   "id": "6aea24ac",
   "metadata": {},
   "outputs": [],
   "source": [
    "response = get_response(\"\"\"\n",
    "Act as an experienced product manager.\n",
    "Analyse customer reviews in context below, \n",
    "and tell if quality of VisionCast products is good or bad\n",
    "and list 3 best and 3 worst products.\n",
    "\n",
    "<context>\n",
    "I recently purchased the VisionCast UltraView 55 and I'm thrilled with the quality. \n",
    "The picture is crystal clear and the smart features are easy to navigate. \n",
    "Great value for the price! - John, New York\n",
    "\n",
    "I'm not happy with the VisionCast UltraView 43. \n",
    "The picture quality is subpar and the TV arrived with a scratch on the screen. \n",
    "I expected better quality control. - Sarah, Los Angeles\n",
    "\n",
    "I bought the VisionCast UltraView 75 and it's just okay. \n",
    "The picture quality is good, but the smart features are a bit complicated to navigate. - Mike, Chicago\n",
    "\n",
    "I bought the VisionCast UltraView 32 for my bedroom and it's perfect. \n",
    "The compact design fits well and the picture quality is great for the price. - Lisa, San Francisco\n",
    "</context>\n",
    "\n",
    "Output format should be a JSON string with following fields:\n",
    "- quality: single word: good or bad\n",
    "- best: a list of product names, without explanation or comments\n",
    "- worst: a list of product names, without explanation or comments\n",
    "\"\"\")\n",
    "\n",
    "display(Markdown(response))"
   ]
  },
  {
   "cell_type": "code",
   "execution_count": null,
   "id": "74136227",
   "metadata": {},
   "outputs": [],
   "source": []
  },
  {
   "cell_type": "code",
   "execution_count": null,
   "id": "faf8c77f",
   "metadata": {},
   "outputs": [],
   "source": [
    "print(f\"Total cost of running this notebook: ${total_cost:.6f}\")"
   ]
  },
  {
   "cell_type": "code",
   "execution_count": null,
   "id": "cf8b99d0",
   "metadata": {},
   "outputs": [],
   "source": []
  }
 ],
 "metadata": {
  "kernelspec": {
   "display_name": "Python 3 (ipykernel)",
   "language": "python",
   "name": "python3"
  },
  "language_info": {
   "codemirror_mode": {
    "name": "ipython",
    "version": 3
   },
   "file_extension": ".py",
   "mimetype": "text/x-python",
   "name": "python",
   "nbconvert_exporter": "python",
   "pygments_lexer": "ipython3",
   "version": "3.11.4"
  }
 },
 "nbformat": 4,
 "nbformat_minor": 5
}
