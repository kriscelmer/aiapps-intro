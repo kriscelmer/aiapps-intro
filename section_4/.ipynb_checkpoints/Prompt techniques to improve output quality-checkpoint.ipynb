{
 "cells": [
  {
   "cell_type": "markdown",
   "id": "16fe788e",
   "metadata": {},
   "source": [
    "# Prompt techniques to improve output quality"
   ]
  },
  {
   "cell_type": "code",
   "execution_count": null,
   "id": "5f2d6d0e",
   "metadata": {},
   "outputs": [],
   "source": [
    "import os\n",
    "import openai\n",
    "from IPython.display import display, HTML, Markdown\n",
    "from pprint import pprint\n",
    "\n",
    "from dotenv import load_dotenv, find_dotenv\n",
    "_ = load_dotenv(find_dotenv()) # read local .env file\n",
    "openai.api_key = os.environ['OPENAI_API_KEY']"
   ]
  },
  {
   "cell_type": "code",
   "execution_count": null,
   "id": "3251c148",
   "metadata": {},
   "outputs": [],
   "source": [
    "from langchain.chat_models import ChatOpenAI\n",
    "from langchain.schema import HumanMessage, AIMessage\n",
    "from langchain.callbacks import get_openai_callback\n",
    "\n",
    "total_cost = 0.0\n",
    "\n",
    "def get_response(prompt: str, temperature=0.0) -> str:\n",
    "    global total_cost\n",
    "    \n",
    "    chat_llm = ChatOpenAI(temperature=temperature)\n",
    "    input_messages = [HumanMessage(content=prompt)]\n",
    "\n",
    "    with get_openai_callback() as cb:\n",
    "        output_message = chat_llm(input_messages)\n",
    "        \n",
    "    total_cost += cb.total_cost\n",
    "    \n",
    "    return output_message.content"
   ]
  },
  {
   "cell_type": "markdown",
   "id": "e3baef39",
   "metadata": {},
   "source": [
    "### Self-confidence to decrease hallucination"
   ]
  },
  {
   "cell_type": "code",
   "execution_count": null,
   "id": "f7cbaf59",
   "metadata": {},
   "outputs": [],
   "source": [
    "prompt = \"\"\"\n",
    "What was Alan Alda's second film role? \n",
    "\"\"\"\n",
    "\n",
    "response = get_response(prompt)\n",
    "\n",
    "print(response)"
   ]
  },
  {
   "cell_type": "code",
   "execution_count": null,
   "id": "c53f3c24",
   "metadata": {},
   "outputs": [],
   "source": [
    "prompt = \"\"\"\n",
    "What was Alan Alda's second film role? \n",
    "\n",
    "Answer ‘I don’t know’ if you don’t know or are unsure about correct answer.\n",
    "\"\"\"\n",
    "\n",
    "response = get_response(prompt)\n",
    "\n",
    "print(response)"
   ]
  },
  {
   "cell_type": "code",
   "execution_count": null,
   "id": "ef735212",
   "metadata": {},
   "outputs": [],
   "source": [
    "prompt = \"\"\"\n",
    "What was Alan Alda's first film role? \n",
    "\n",
    "Answer ‘I don’t know’ if you don’t know or are unsure about correct answer.\n",
    "\"\"\"\n",
    "\n",
    "response = get_response(prompt)\n",
    "\n",
    "print(response)"
   ]
  },
  {
   "cell_type": "markdown",
   "id": "183d340e",
   "metadata": {},
   "source": [
    "### Zero-shot Chain of Thougths to inprove reasoning"
   ]
  },
  {
   "cell_type": "code",
   "execution_count": null,
   "id": "0768b2d8",
   "metadata": {},
   "outputs": [],
   "source": [
    "response = get_response(\"\"\"\n",
    "Classify the text below using categories: \n",
    "Poem, Weather forecast, Customer Review, Product description, Other.\n",
    "\n",
    "I recently purchased the VisionCast UltraView 55 and I'm thrilled with the quality. \n",
    "The picture is crystal clear and the smart features are easy to navigate. \n",
    "Great value for the price! - John, New York\n",
    "\"\"\")\n",
    "\n",
    "display(Markdown(response))"
   ]
  },
  {
   "cell_type": "markdown",
   "id": "9c913897",
   "metadata": {},
   "source": [
    "### Research papers:\n",
    "- CoT : Wei et al. [Chain-of-Thought Prompting Elicits Reasoning in Large Language Models](https://arxiv.org/abs/2201.11903)\n",
    "- Zero-shotCoT : Kojima et al. [Large Language Models are Zero-Shot Reasoners](https://arxiv.org/abs/2205.11916)"
   ]
  },
  {
   "cell_type": "code",
   "execution_count": null,
   "id": "961287fb",
   "metadata": {},
   "outputs": [],
   "source": [
    "response = get_response(\"\"\"\n",
    "Classify the text below using categories: \n",
    "Poem, Weather forecast, Customer Review, Product description, Other.\n",
    "\n",
    "<text>\n",
    "I recently purchased the VisionCast UltraView 55 and I'm thrilled with the quality. \n",
    "The picture is crystal clear and the smart features are easy to navigate. \n",
    "Great value for the price! - John, New York\n",
    "</text>\n",
    "\n",
    "Let's think step by step.\n",
    "\"\"\")\n",
    "\n",
    "display(Markdown(response))"
   ]
  },
  {
   "cell_type": "code",
   "execution_count": null,
   "id": "2187eca6",
   "metadata": {},
   "outputs": [],
   "source": [
    "response = get_response(\"\"\"\n",
    "Classify the text below using categories: \n",
    "Poem, Weather forecast, Customer Review, Product description, Other.\n",
    "\n",
    "<text>\n",
    "I recently purchased the VisionCast UltraView 55 and I'm thrilled with the quality. \n",
    "The picture is crystal clear and the smart features are easy to navigate. \n",
    "Great value for the price! - John, New York\n",
    "</text>\n",
    "\n",
    "Let's work this out in a step by step way to be sure we have the right answer.\n",
    "\"\"\")\n",
    "\n",
    "display(Markdown(response))"
   ]
  },
  {
   "cell_type": "code",
   "execution_count": null,
   "id": "a1a532e0",
   "metadata": {},
   "outputs": [],
   "source": [
    "response = get_response(\"\"\"\n",
    "Classify the text below using categories: \n",
    "Poem, Weather forecast, Customer Review, Product specification, Other.\n",
    "\n",
    "<text>\n",
    "In the bedroom I put a new VisionCast TV,\n",
    "I like the picture quality,\n",
    "Look how happy is me!\n",
    "Sunny day and clear skies for my vicinity.\n",
    "</text>\n",
    "\"\"\")\n",
    "\n",
    "display(Markdown(response))"
   ]
  },
  {
   "cell_type": "code",
   "execution_count": null,
   "id": "b031a336",
   "metadata": {},
   "outputs": [],
   "source": [
    "response = get_response(\"\"\"\n",
    "Classify the text below using categories: \n",
    "'Poem', 'Weather forecast', 'Customer Review', 'Product specification' or \n",
    "Other for text that falls into none of previous categories or more than one of them.\n",
    "\n",
    "<text>\n",
    "In the bedroom I put a new VisionCast TV,\n",
    "I like the picture quality,\n",
    "Look how happy is me!\n",
    "Sunny day and clear skies for my vicinity.\n",
    "</text>\n",
    "\n",
    "Let's work this out in a step by step way to be sure we have the right answer.\n",
    "\"\"\")\n",
    "\n",
    "display(Markdown(response))"
   ]
  },
  {
   "cell_type": "code",
   "execution_count": null,
   "id": "344ba47b",
   "metadata": {},
   "outputs": [],
   "source": [
    "response = get_response(\"\"\"\n",
    "Classify the text below using categories: \n",
    "'Poem', 'Weather forecast', 'Customer Review', 'Product specification' or \n",
    "Other for text that falls into none of previous categories or more than one of them.\n",
    "\n",
    "<text>\n",
    "In the bedroom I put a new VisionCast TV,\n",
    "I like the picture quality,\n",
    "Look how happy is me!\n",
    "Sunny day and clear skies for my vicinity.\n",
    "</text>\n",
    "\n",
    "The output should be a markdown code snippet formatted in the following schema, including the leading and trailing \"```json\" and \"```\":\n",
    "\n",
    "```json\n",
    "{\n",
    "    \"resoning\": str // Full text of your exaplanations and reasoning\n",
    "    \"category\": str\n",
    "}\n",
    "```\n",
    "\n",
    "Let's work this out in a step by step way to be sure we have the right answer.\n",
    "\"\"\")\n",
    "\n",
    "display(Markdown(response))"
   ]
  },
  {
   "cell_type": "code",
   "execution_count": null,
   "id": "53a72043",
   "metadata": {},
   "outputs": [],
   "source": [
    "response = get_response(\"\"\"\n",
    "Classify the text below using categories: \n",
    "'Poem', 'Weather forecast', 'Customer Review', 'Product specification' or \n",
    "Other for text that falls into none of previous categories or more than one of them.\n",
    "\n",
    "<text>\n",
    "I recently purchased the VisionCast UltraView 55 and I'm thrilled with the quality. \n",
    "The picture is crystal clear and the smart features are easy to navigate. \n",
    "Great value for the price! - John, New York\n",
    "</text>\n",
    "\n",
    "The output should be a markdown code snippet formatted in the following schema, including the leading and trailing \"```json\" and \"```\":\n",
    "\n",
    "```json\n",
    "{\n",
    "    \"resoning\": str // Full text of your exaplanations and reasoning\n",
    "    \"category\": str\n",
    "}\n",
    "```\n",
    "\n",
    "Let's work this out in a step by step way to be sure we have the right answer.\n",
    "\"\"\")\n",
    "\n",
    "display(Markdown(response))"
   ]
  },
  {
   "cell_type": "markdown",
   "id": "de015bad",
   "metadata": {},
   "source": [
    "### Prompt variations to enrich the output"
   ]
  },
  {
   "cell_type": "code",
   "execution_count": null,
   "id": "03b3e8f4",
   "metadata": {},
   "outputs": [],
   "source": [
    "response = get_response(\"\"\"\n",
    "Analyse customer reviews in context below, delimited by === \n",
    "to extract most important good and bad features and experiences mentioned by the customers.\n",
    "Output the list of top 3 best and worst.\n",
    "\n",
    "Context:\n",
    "===\n",
    "I recently purchased the VisionCast UltraView 55 and I'm thrilled with the quality. \n",
    "The picture is crystal clear and the smart features are easy to navigate. \n",
    "Great value for the price! - John, New York\n",
    "\n",
    "I'm not happy with the VisionCast UltraView 43\". \n",
    "The picture quality is subpar and the TV arrived instantly, but with a scratch on the screen. \n",
    "I expected better quality control. - Sarah, Los Angeles\n",
    "\n",
    "I bought the VisionCast UltraView 75\" and it's just okay. \n",
    "The picture quality is good, but the delivery was 3 days late. - Mike, Chicago\n",
    "\n",
    "I bought the VisionCast UltraView 32\" for my bedroom and it's perfect. \n",
    "The compact design fits well and the picture quality is great for the price. \n",
    "The delivery was swift. - Lisa, San Francisco\n",
    "\n",
    "I bought the VisionCast UltraView 75\" and it's simply fantastic. \n",
    "The voice control remote is a game-changer. However, the delivery was delayed by \n",
    "a week which was quite frustrating. - Emma, London\n",
    "\n",
    "I purchased the VisionCast UltraView 55 and I'm not impressed. The TV arrived late and \n",
    "the picture quality is not as good as I expected. - Olivia, Birmingham\n",
    "===\n",
    "\"\"\")\n",
    "\n",
    "display(Markdown(response))"
   ]
  },
  {
   "cell_type": "code",
   "execution_count": null,
   "id": "538197f0",
   "metadata": {},
   "outputs": [],
   "source": [
    "response = get_response(\"\"\"\n",
    "Act in turns as a product manager, logistics specialist, pricing specialist,\n",
    "competitive analyst and a frequent online shopper to analyse customer reviews \n",
    "in context below to extract most important good and bad features and experiences \n",
    "mentioned by the customers.\n",
    "Output the combined list of top 3 best and worst.\n",
    "\n",
    "<context>\n",
    "I recently purchased the VisionCast UltraView 55 and I'm thrilled with the quality. \n",
    "The picture is crystal clear and the smart features are easy to navigate. \n",
    "Great value for the price! - John, New York\n",
    "\n",
    "I'm not happy with the VisionCast UltraView 43\". \n",
    "The picture quality is subpar and the TV arrived instantly, but with a scratch on the screen. \n",
    "I expected better quality control. - Sarah, Los Angeles\n",
    "\n",
    "I bought the VisionCast UltraView 75\" and it's just okay. \n",
    "The picture quality is good, but the delivery was 3 days late. - Mike, Chicago\n",
    "\n",
    "I bought the VisionCast UltraView 32\" for my bedroom and it's perfect. \n",
    "The compact design fits well and the picture quality is great for the price. \n",
    "The delivery was swift. - Lisa, San Francisco\n",
    "\n",
    "I bought the VisionCast UltraView 75\" and it's simply fantastic. \n",
    "The voice control remote is a game-changer. However, the delivery was delayed by \n",
    "a week which was quite frustrating. - Emma, London\n",
    "\n",
    "I purchased the VisionCast UltraView 55 and I'm not impressed. The TV arrived late and \n",
    "the picture quality is not as good as I expected. - Olivia, Birmingham\n",
    "</context>\n",
    "\"\"\")\n",
    "\n",
    "display(Markdown(response))"
   ]
  },
  {
   "cell_type": "code",
   "execution_count": null,
   "id": "94daedca",
   "metadata": {},
   "outputs": [],
   "source": [
    "response = get_response(\"\"\"\n",
    "Act in turns as a product manager, logistics specialist, pricing specialist,\n",
    "competitive analyst and a frequent online shoppper to analyse customer reviews \n",
    "in context below and to extract most important good and bad features and experiences \n",
    "mentioned by the customers.\n",
    "Output the combined list of top 3 best and worst.\n",
    "\n",
    "<context>\n",
    "I recently purchased the VisionCast UltraView 55 and I'm thrilled with the quality. \n",
    "The picture is crystal clear and the smart features are easy to navigate. \n",
    "Great value for the price! - John, New York\n",
    "\n",
    "I'm not happy with the VisionCast UltraView 43\". \n",
    "The picture quality is subpar and the TV arrived instantly, but with a scratch on the screen. \n",
    "I expected better quality control. - Sarah, Los Angeles\n",
    "\n",
    "I bought the VisionCast UltraView 75\" and it's just okay. \n",
    "The picture quality is good, but the delivery was 3 days late. - Mike, Chicago\n",
    "\n",
    "I bought the VisionCast UltraView 32\" for my bedroom and it's perfect. \n",
    "The compact design fits well and the picture quality is great for the price. \n",
    "The delivery was swift. - Lisa, San Francisco\n",
    "\n",
    "I bought the VisionCast UltraView 75\" and it's simply fantastic. \n",
    "The voice control remote is a game-changer. However, the delivery was delayed by \n",
    "a week which was quite frustrating. - Emma, London\n",
    "\n",
    "I purchased the VisionCast UltraView 55 and I'm not impressed. The TV arrived late and \n",
    "the picture quality is not as good as I expected. - Olivia, Birmingham\n",
    "</context>\n",
    "\n",
    "Let's work this out in a step by step way to be sure we have the right answer.\n",
    "\"\"\")\n",
    "\n",
    "display(Markdown(response))"
   ]
  },
  {
   "cell_type": "code",
   "execution_count": null,
   "id": "6ecf7ff1",
   "metadata": {
    "jupyter": {
     "source_hidden": true
    }
   },
   "outputs": [],
   "source": []
  },
  {
   "cell_type": "code",
   "execution_count": null,
   "id": "92cf85f8-7513-49cf-b412-4b3c8d8e1c25",
   "metadata": {},
   "outputs": [],
   "source": [
    "print(f\"Total cost of running this notebook: ${total_cost:.6f}\")"
   ]
  },
  {
   "cell_type": "code",
   "execution_count": null,
   "id": "29d3f1e9-6c7d-4d12-b0e9-13b1ea744001",
   "metadata": {
    "jupyter": {
     "source_hidden": true
    }
   },
   "outputs": [],
   "source": []
  }
 ],
 "metadata": {
  "kernelspec": {
   "display_name": "Python 3 (ipykernel)",
   "language": "python",
   "name": "python3"
  },
  "language_info": {
   "codemirror_mode": {
    "name": "ipython",
    "version": 3
   },
   "file_extension": ".py",
   "mimetype": "text/x-python",
   "name": "python",
   "nbconvert_exporter": "python",
   "pygments_lexer": "ipython3",
   "version": "3.11.4"
  }
 },
 "nbformat": 4,
 "nbformat_minor": 5
}
