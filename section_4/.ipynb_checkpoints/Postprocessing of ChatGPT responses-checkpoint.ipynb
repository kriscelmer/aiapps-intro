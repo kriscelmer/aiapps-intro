{
 "cells": [
  {
   "cell_type": "markdown",
   "id": "2eecf99d",
   "metadata": {},
   "source": [
    "# Postprocessing of ChatGPT responses"
   ]
  },
  {
   "cell_type": "code",
   "execution_count": null,
   "id": "7f54d896",
   "metadata": {},
   "outputs": [],
   "source": [
    "import os\n",
    "import openai\n",
    "from IPython.display import display, HTML, Markdown\n",
    "from pprint import pprint\n",
    "\n",
    "from dotenv import load_dotenv, find_dotenv\n",
    "_ = load_dotenv(find_dotenv()) # read local .env file\n",
    "openai.api_key = os.environ['OPENAI_API_KEY']"
   ]
  },
  {
   "cell_type": "code",
   "execution_count": null,
   "id": "c73cfe60",
   "metadata": {},
   "outputs": [],
   "source": [
    "from langchain.chat_models import ChatOpenAI\n",
    "from langchain.schema import HumanMessage, AIMessage\n",
    "from langchain.callbacks import get_openai_callback\n",
    "\n",
    "total_cost = 0.0\n",
    "\n",
    "def get_response(prompt: str, temperature=0.0) -> str:\n",
    "    global total_cost\n",
    "    \n",
    "    chat_llm = ChatOpenAI(temperature=temperature)\n",
    "    input_messages = [HumanMessage(content=prompt)]\n",
    "\n",
    "    with get_openai_callback() as cb:\n",
    "        output_message = chat_llm(input_messages)\n",
    "        \n",
    "    total_cost += cb.total_cost\n",
    "    \n",
    "    return output_message.content"
   ]
  },
  {
   "cell_type": "code",
   "execution_count": null,
   "id": "a8d0458a",
   "metadata": {},
   "outputs": [],
   "source": [
    "prompt = \"List 3 most common variable names used in Python.\"\n",
    "\n",
    "response = get_response(prompt)\n",
    "\n",
    "print(f\"Type of 'response': {type(response)}\\n\")\n",
    "print(response)"
   ]
  },
  {
   "cell_type": "markdown",
   "id": "81285fa7",
   "metadata": {},
   "source": [
    "### Simple List parser"
   ]
  },
  {
   "cell_type": "code",
   "execution_count": null,
   "id": "a72a674b",
   "metadata": {},
   "outputs": [],
   "source": [
    "from langchain.output_parsers import CommaSeparatedListOutputParser\n",
    "\n",
    "list_parser = CommaSeparatedListOutputParser()\n",
    "\n",
    "list_format_instructions = list_parser.get_format_instructions()\n",
    "\n",
    "print(list_format_instructions)"
   ]
  },
  {
   "cell_type": "code",
   "execution_count": null,
   "id": "fa990409",
   "metadata": {},
   "outputs": [],
   "source": [
    "prompt_with_list_format_instructions = prompt + '\\n' + list_format_instructions\n",
    "\n",
    "print(prompt_with_list_format_instructions)"
   ]
  },
  {
   "cell_type": "code",
   "execution_count": null,
   "id": "24fa5132",
   "metadata": {},
   "outputs": [],
   "source": [
    "response = get_response(prompt_with_list_format_instructions)\n",
    "\n",
    "print(response)"
   ]
  },
  {
   "cell_type": "code",
   "execution_count": null,
   "id": "234f9bbb",
   "metadata": {},
   "outputs": [],
   "source": [
    "names = list_parser.parse(response)\n",
    "\n",
    "print(f\"Type 'names' is {type(names)}\")\n",
    "pprint(names)"
   ]
  },
  {
   "cell_type": "markdown",
   "id": "55088793-e094-437b-bc1f-275a868b2172",
   "metadata": {},
   "source": [
    "### LangChain API reference of [Output Parsers](https://api.python.langchain.com/en/latest/api_reference.html?highlight=langchain%20output_parsers#module-langchain.output_parsers)"
   ]
  },
  {
   "cell_type": "markdown",
   "id": "003aaaf5",
   "metadata": {},
   "source": [
    "### Structured Output Parser\n",
    "\n",
    "[LangChain docs](https://python.langchain.com/docs/modules/model_io/output_parsers/structured) on `StructuredOutputParser`"
   ]
  },
  {
   "cell_type": "markdown",
   "id": "304e9f0d",
   "metadata": {},
   "source": [
    "### Analyze Wikipedia article summaries on Roman Battles\n",
    "\n",
    "https://en.wikipedia.org/wiki/List_of_Roman_external_wars_and_battles"
   ]
  },
  {
   "cell_type": "code",
   "execution_count": null,
   "id": "438cfc5a",
   "metadata": {},
   "outputs": [],
   "source": [
    "battles = [\n",
    "    \"Battle of Vesuvius\",\n",
    "    \"Battle of Ebro River\",\n",
    "    \"First Battle of Capua\",\n",
    "    \"Battle of Vosges (58 BC)\",\n",
    "    \"Battle of Nisibis (217)\",\n",
    "]"
   ]
  },
  {
   "cell_type": "markdown",
   "id": "1bbf485b",
   "metadata": {},
   "source": [
    "Wikipedia library docs: https://wikipedia.readthedocs.io/en/latest/"
   ]
  },
  {
   "cell_type": "code",
   "execution_count": null,
   "id": "5bcf66d4",
   "metadata": {},
   "outputs": [],
   "source": [
    "import wikipedia\n",
    "\n",
    "wikipedia.set_lang(\"en\")\n",
    "\n",
    "text = wikipedia.summary(battles[0], auto_suggest=False)\n",
    "\n",
    "display(Markdown(text))"
   ]
  },
  {
   "cell_type": "code",
   "execution_count": null,
   "id": "30ffe3d7",
   "metadata": {},
   "outputs": [],
   "source": [
    "from langchain.output_parsers import StructuredOutputParser, ResponseSchema\n",
    "\n",
    "response_schemas = [\n",
    "    ResponseSchema(\n",
    "        name=\"date\",\n",
    "        type=\"str\",\n",
    "        description=\"Date of the battle\"\n",
    "    ),\n",
    "    ResponseSchema(\n",
    "        name=\"victory\", \n",
    "        type=\"bool\",\n",
    "        description=\"True if Romans won the battle, otherwise False\"\n",
    "    ),\n",
    "    ResponseSchema(\n",
    "        name=\"opponents\",\n",
    "        type=\"List[str]\",\n",
    "        description=\"Names of the kingdoms or nations fighting Romans in this battle\"\n",
    "    ),\n",
    "    ResponseSchema(\n",
    "        name=\"roman_leaders\",\n",
    "        type=\"List[str]\",\n",
    "        description=\"List of leaders of Roman forces\"\n",
    "    ),\n",
    "    ResponseSchema(\n",
    "        name=\"opponent_leaders\",\n",
    "        type=\"List[str]\",\n",
    "        description=\"List leaders of opponents of the Roman forces\"\n",
    "    ),\n",
    "    ResponseSchema(\n",
    "        name=\"location\",\n",
    "        type=\"str\",\n",
    "        description=\"geographical name of the location of the battle\"\n",
    "    ),\n",
    "]\n",
    "\n",
    "output_parser = StructuredOutputParser.from_response_schemas(response_schemas)\n",
    "format_instructions = output_parser.get_format_instructions()\n",
    "\n",
    "print(format_instructions)"
   ]
  },
  {
   "cell_type": "code",
   "execution_count": null,
   "id": "2c5afdb8",
   "metadata": {},
   "outputs": [],
   "source": [
    "from langchain.prompts import PromptTemplate\n",
    "\n",
    "prompt = PromptTemplate.from_template(\n",
    "    \"Act as a history professor and analyse the summary of Roman battle below.\\n\\n{format_instructions}\\n\\n<summary>\\n{battle}\\n</summary>\"\n",
    ")"
   ]
  },
  {
   "cell_type": "code",
   "execution_count": null,
   "id": "e63218fa-4acd-449a-b162-444dccb31214",
   "metadata": {},
   "outputs": [],
   "source": [
    "print(prompt.format(battle=text, format_instructions=format_instructions))"
   ]
  },
  {
   "cell_type": "code",
   "execution_count": null,
   "id": "a5a57f92-7b0e-43dc-b06e-343dc84d74f6",
   "metadata": {},
   "outputs": [],
   "source": [
    "raw_response = get_response(\n",
    "    prompt.format(battle=text, format_instructions=format_instructions)\n",
    ")\n",
    "\n",
    "print(raw_response)"
   ]
  },
  {
   "cell_type": "code",
   "execution_count": null,
   "id": "465d56ae-7828-4894-b762-a1546c07894d",
   "metadata": {},
   "outputs": [],
   "source": [
    "response = output_parser.parse(raw_response)\n",
    "\n",
    "print(f\"Type of parsed response is {type(response)}\\n\")\n",
    "print(response)"
   ]
  },
  {
   "cell_type": "code",
   "execution_count": null,
   "id": "2530e426",
   "metadata": {},
   "outputs": [],
   "source": [
    "def analyse_battle(battle_summary, prompt=prompt, output_parser=output_parser):\n",
    "\n",
    "    input_text = prompt.format(\n",
    "        battle=battle_summary, \n",
    "        format_instructions=output_parser.get_format_instructions())\n",
    "    \n",
    "    output = get_response(input_text)\n",
    "    \n",
    "    return output_parser.parse(output)"
   ]
  },
  {
   "cell_type": "code",
   "execution_count": null,
   "id": "aba4e3bd",
   "metadata": {},
   "outputs": [],
   "source": [
    "index = 2 # try values 0 to 4\n",
    "\n",
    "battle_summary = wikipedia.summary(battles[index], auto_suggest=False)\n",
    "\n",
    "print(f\"Summary of {battles[index]}:\\n\\n{battle_summary}\\n\")\n",
    "\n",
    "output = analyse_battle(battle_summary)\n",
    "\n",
    "pprint(output)"
   ]
  },
  {
   "cell_type": "markdown",
   "id": "c957e126-6efb-4b1c-9fc6-49f5f8a5a989",
   "metadata": {},
   "source": [
    "### PydanticOutputParser [API Reference](https://api.python.langchain.com/en/latest/output_parsers/langchain.output_parsers.pydantic.PydanticOutputParser.html#langchain.output_parsers.pydantic.PydanticOutputParser)"
   ]
  },
  {
   "cell_type": "code",
   "execution_count": null,
   "id": "323b7696",
   "metadata": {},
   "outputs": [],
   "source": [
    "print(f\"Total cost of running this notebook: {total_cost}\")"
   ]
  },
  {
   "cell_type": "code",
   "execution_count": null,
   "id": "a6805081",
   "metadata": {
    "jupyter": {
     "source_hidden": true
    }
   },
   "outputs": [],
   "source": []
  }
 ],
 "metadata": {
  "kernelspec": {
   "display_name": "Python 3 (ipykernel)",
   "language": "python",
   "name": "python3"
  },
  "language_info": {
   "codemirror_mode": {
    "name": "ipython",
    "version": 3
   },
   "file_extension": ".py",
   "mimetype": "text/x-python",
   "name": "python",
   "nbconvert_exporter": "python",
   "pygments_lexer": "ipython3",
   "version": "3.11.4"
  }
 },
 "nbformat": 4,
 "nbformat_minor": 5
}
