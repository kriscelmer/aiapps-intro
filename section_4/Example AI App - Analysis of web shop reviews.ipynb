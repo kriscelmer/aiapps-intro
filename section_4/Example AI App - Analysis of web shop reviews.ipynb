{
 "cells": [
  {
   "cell_type": "markdown",
   "id": "6a366f0e",
   "metadata": {},
   "source": [
    "# Example AI App - Analysis of web shop reviews"
   ]
  },
  {
   "cell_type": "code",
   "execution_count": null,
   "id": "07b7c0e8",
   "metadata": {},
   "outputs": [],
   "source": [
    "import os\n",
    "import openai\n",
    "from IPython.display import display, HTML\n",
    "from pprint import pprint\n",
    "\n",
    "from dotenv import load_dotenv, find_dotenv\n",
    "_ = load_dotenv(find_dotenv()) # read local .env file\n",
    "openai.api_key = os.environ['OPENAI_API_KEY']\n",
    "\n",
    "total_cost = 0.0"
   ]
  },
  {
   "cell_type": "markdown",
   "id": "14fbe98b",
   "metadata": {},
   "source": [
    "---"
   ]
  },
  {
   "cell_type": "markdown",
   "id": "03e1ed5a",
   "metadata": {},
   "source": [
    "## The task:\n",
    "\n",
    "Write a code to automatically analyse Customer reviews published at on-line electronics web shop. Example reviews are loaded with code in cell below."
   ]
  },
  {
   "cell_type": "markdown",
   "id": "8ecf9f15",
   "metadata": {},
   "source": [
    "---"
   ]
  },
  {
   "cell_type": "code",
   "execution_count": null,
   "id": "52ef12bc",
   "metadata": {},
   "outputs": [],
   "source": [
    "reviews_csv_filepath = \"Reviews3.csv\"\n",
    "\n",
    "with open(reviews_csv_filepath, 'r', encoding='UTF-8') as file:\n",
    "    reviews = [line.rstrip() for line in file]\n",
    "    \n",
    "for i, review in enumerate(reviews):\n",
    "    print(f\"{i}: {review}\")"
   ]
  },
  {
   "cell_type": "markdown",
   "id": "d046f7b4",
   "metadata": {},
   "source": [
    "---"
   ]
  },
  {
   "cell_type": "markdown",
   "id": "6fb49969",
   "metadata": {},
   "source": [
    "Function `analyse_review` takes a string containing one review and returns a dictionary with following keys and values.\n",
    "    \n",
    "| Key | Value type | Description |\n",
    "| :---: | :---: | :--- |\n",
    "| \"in_english\" | string | review translated to English, or with corrected spelling, grammar and punctuation |\n",
    "| \"language\" | string | language of the review |\n",
    "| \"is_valid_review\" | boolean | True if the review is a valid and legitmate Customer review |\n",
    "| \"customer\" | string | name of the Customer signing the review |\n",
    "| \"rating\" | integer | sentiment rating, 1: very negative to 5: very positive (0 if not a valid review) |\n",
    "| \"product\" | string | product name extracted from the review |\n",
    "| \"logistics\" | boolean | True if review mentions logistics in positive or negative sense |\n",
    "| \"pricing\" | boolean | True if review mentions pricing in positive or negative sense |\n",
    "| \"quality\" | boolean | True if review mentions product quality in positive or negative sense |\n",
    "| \"top_positive\" | list of strings | up to 3 positive comments in the review |\n",
    "| \"top_negative\" | list of strings | up to 3 negative comments in the review |\n",
    "\n",
    "If the input review is not a legitimate and valid customer review, then rating should be set to 0, customer and product to \"Unrecognized\", all booleans set to false and both lists must be empty.\n",
    "\n",
    "The output dictionary is later used to convert to JSON and stored into a Database. Product Management, Pricing, Logistics and Quality departments use the Database to analyse reviews, querying with the keys above."
   ]
  },
  {
   "cell_type": "markdown",
   "id": "e1ba6951",
   "metadata": {},
   "source": [
    "---"
   ]
  },
  {
   "cell_type": "code",
   "execution_count": null,
   "id": "b17128ac",
   "metadata": {},
   "outputs": [],
   "source": [
    "from langchain.output_parsers import StructuredOutputParser, ResponseSchema\n",
    "from langchain.prompts import ChatPromptTemplate, HumanMessagePromptTemplate\n",
    "\n",
    "response_schemas = [\n",
    "    ResponseSchema(\n",
    "        name=\"in_english\",\n",
    "        type=\"str\",\n",
    "        description=\"Translate the text to English if text is in language other than English. Otherwise correct spelling, grammar and punctuation. Do not put output in quotes or any other delimiters.\"\n",
    "    ),\n",
    "    ResponseSchema(\n",
    "        name=\"language\", \n",
    "        type=\"str\",\n",
    "        description=\"Identify language of the review text. Answer with one word, tell Unrecognized if you don't know or unsure.\"\n",
    "    ),\n",
    "    ResponseSchema(\n",
    "        name=\"is_valid_review\",\n",
    "        type=\"bool\",\n",
    "        description=\"Please analyse review text and output single word true only if the review is a legitimate product review, otherwise output single word false.\"\n",
    "    ),\n",
    "    ResponseSchema(\n",
    "        name=\"customer\",\n",
    "        type=\"str\",\n",
    "        description=\"If the text is a legitimate product review, then please extract name of a person signing the review. Output Unrecognized if not a review or you don't know or unsure.\"\n",
    "    ),\n",
    "    ResponseSchema(\n",
    "        name=\"rating\",\n",
    "        type=\"int\",\n",
    "        description=\"If the text is a legitimate product review, then please rate the sentiment expressed in the review on a scale of 1 to 5, where 1 is very negative, 3 is balanced and neutral, 5 is very positive. Output single digit answer. Output 0 if the text is not a legitimate product review or sentiment cannot be rated or unsure.\"\n",
    "    ),\n",
    "    ResponseSchema(\n",
    "        name=\"product\",\n",
    "        type=\"str\",\n",
    "        description=\"If the text is a legitimate product review, then extract product name from review. Output Unrecognized if the text is not a legitimate product review or you don't know exact product name or unsure.\"\n",
    "    ),\n",
    "    ResponseSchema(\n",
    "        name=\"logistics\",\n",
    "        type=\"bool\",\n",
    "        description=\"If the text is a legitimate product review, then please analyse review text and output single word true only if the review mentions comment about delivery time or damaged goods, otherwise output single word false.\"\n",
    "    ),\n",
    "    ResponseSchema(\n",
    "        name=\"pricing\",\n",
    "        type=\"bool\",\n",
    "        description=\"If the text is a legitimate product review, then please analyse review text and output single word true only if the review mentions positive or negative comment about price, otherwise output single word false.\"\n",
    "    ),\n",
    "    ResponseSchema(\n",
    "        name=\"quality\",\n",
    "        type=\"bool\",\n",
    "        description=\"If the text is a legitimate product review, then please analyse review text and output single word true only if the review mentions positive or negative comment about product quality, otherwise output single word false.\"\n",
    "    ),\n",
    "    ResponseSchema(\n",
    "        name=\"top_positive\",\n",
    "        type=\"List[str]\",\n",
    "        description=\"If the text is a legitimate product review, then please analyse review text and output list of up to 3 positive comments in it. Otherwise output an empty list.\"\n",
    "    ),\n",
    "    ResponseSchema(\n",
    "        name=\"top_negative\",\n",
    "        type=\"List[str]\",\n",
    "        description=\"If the text is a legitimate product review, then please analyse review text and output list of up to 3 negative comments in it. Otherwise output an empty list.\"\n",
    "    ),\n",
    "]\n",
    "\n",
    "output_parser = StructuredOutputParser.from_response_schemas(response_schemas)\n",
    "format_instructions = output_parser.get_format_instructions()\n",
    "\n",
    "print(format_instructions)"
   ]
  },
  {
   "cell_type": "code",
   "execution_count": null,
   "id": "4e88a02e",
   "metadata": {},
   "outputs": [],
   "source": [
    "prompt = ChatPromptTemplate(\n",
    "    messages=[\n",
    "        HumanMessagePromptTemplate.from_template(\"Please analyse the review below.\\n\\n{format_instructions}\\n\\n<review>\\n{review}\\n</review>\")  \n",
    "    ],\n",
    "    input_variables=[\"review\"],\n",
    "    partial_variables={\"format_instructions\": format_instructions}\n",
    ")"
   ]
  },
  {
   "cell_type": "code",
   "execution_count": null,
   "id": "120b6f9e",
   "metadata": {},
   "outputs": [],
   "source": [
    "from langchain.chat_models import ChatOpenAI\n",
    "from langchain.chains import LLMChain\n",
    "from langchain.prompts import ChatPromptTemplate\n",
    "from langchain.callbacks import OpenAICallbackHandler\n",
    "\n",
    "totals_cb = OpenAICallbackHandler()\n",
    "\n",
    "print(totals_cb)\n",
    "\n",
    "review_chain = LLMChain(\n",
    "    llm=ChatOpenAI(temperature=0.0),\n",
    "    prompt=prompt,\n",
    "    output_parser=output_parser\n",
    ")\n",
    "\n",
    "analyse_review = lambda x: review_chain(x, callbacks=[totals_cb])['text']"
   ]
  },
  {
   "cell_type": "code",
   "execution_count": null,
   "id": "6c98b5d5",
   "metadata": {},
   "outputs": [],
   "source": [
    "print(f\"Review text: \\n{reviews[0]}\\n\")\n",
    "\n",
    "output_dict = analyse_review(reviews[0])\n",
    "\n",
    "pprint(output_dict)"
   ]
  },
  {
   "cell_type": "code",
   "execution_count": null,
   "id": "91649ec3",
   "metadata": {},
   "outputs": [],
   "source": [
    "# Mixed review in French, no logistics issue - reviews[2]\n",
    "print(f\"Review text: \\n{reviews[2]}\\n\")\n",
    "\n",
    "output_dict = analyse_review(reviews[2])\n",
    "\n",
    "pprint(output_dict)"
   ]
  },
  {
   "cell_type": "code",
   "execution_count": null,
   "id": "ea5cd9d8",
   "metadata": {
    "scrolled": true
   },
   "outputs": [],
   "source": [
    "# Logistics issue - reviews[4]\n",
    "print(f\"Review text: \\n{reviews[4]}\\n\")\n",
    "\n",
    "output_dict = analyse_review(reviews[4])\n",
    "\n",
    "pprint(output_dict)"
   ]
  },
  {
   "cell_type": "code",
   "execution_count": null,
   "id": "42457144",
   "metadata": {},
   "outputs": [],
   "source": [
    "# Negative review, misspelled - reviews[5]\n",
    "print(f\"Review text: \\n{reviews[5]}\\n\")\n",
    "\n",
    "output_dict = analyse_review(reviews[5])\n",
    "\n",
    "pprint(output_dict)"
   ]
  },
  {
   "cell_type": "code",
   "execution_count": null,
   "id": "c4245f09",
   "metadata": {},
   "outputs": [],
   "source": [
    "# Weather report, but positive - review[8]\n",
    "print(f\"Review text: \\n{reviews[8]}\\n\")\n",
    "\n",
    "output_dict = analyse_review(reviews[8])\n",
    "\n",
    "pprint(output_dict)"
   ]
  },
  {
   "cell_type": "code",
   "execution_count": null,
   "id": "695511d3",
   "metadata": {},
   "outputs": [],
   "source": [
    "# Don Quixote - review[10]\n",
    "print(f\"Review text: \\n{reviews[10]}\\n\")\n",
    "\n",
    "output_dict = analyse_review(reviews[10])\n",
    "\n",
    "pprint(output_dict)"
   ]
  },
  {
   "cell_type": "code",
   "execution_count": null,
   "id": "f56d1080",
   "metadata": {},
   "outputs": [],
   "source": [
    "print(f\"Total cost: ${totals_cb}\")"
   ]
  },
  {
   "cell_type": "code",
   "execution_count": null,
   "id": "eb47f28e",
   "metadata": {},
   "outputs": [],
   "source": []
  }
 ],
 "metadata": {
  "kernelspec": {
   "display_name": "Python 3 (ipykernel)",
   "language": "python",
   "name": "python3"
  },
  "language_info": {
   "codemirror_mode": {
    "name": "ipython",
    "version": 3
   },
   "file_extension": ".py",
   "mimetype": "text/x-python",
   "name": "python",
   "nbconvert_exporter": "python",
   "pygments_lexer": "ipython3",
   "version": "3.11.4"
  }
 },
 "nbformat": 4,
 "nbformat_minor": 5
}
