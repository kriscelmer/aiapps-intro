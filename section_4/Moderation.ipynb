{
 "cells": [
  {
   "cell_type": "markdown",
   "id": "56a5130e",
   "metadata": {},
   "source": [
    "# Moderation"
   ]
  },
  {
   "cell_type": "markdown",
   "id": "92ccb664",
   "metadata": {},
   "source": [
    "OpenAI docs on Moderation: https://platform.openai.com/docs/guides/moderation/overview"
   ]
  },
  {
   "cell_type": "code",
   "execution_count": null,
   "id": "fedb4158",
   "metadata": {},
   "outputs": [],
   "source": [
    "import os\n",
    "import openai\n",
    "from IPython.display import display, HTML, Markdown\n",
    "from pprint import pprint\n",
    "\n",
    "from dotenv import load_dotenv, find_dotenv\n",
    "_ = load_dotenv(find_dotenv()) # read local .env file\n",
    "\n",
    "openai.api_key = os.environ['OPENAI_API_KEY']"
   ]
  },
  {
   "cell_type": "code",
   "execution_count": null,
   "id": "aa8c758f",
   "metadata": {},
   "outputs": [],
   "source": [
    "from langchain.chat_models import ChatOpenAI\n",
    "from langchain.chains import LLMChain\n",
    "from langchain.prompts import ChatPromptTemplate\n",
    "from langchain.callbacks import OpenAICallbackHandler\n",
    "\n",
    "totals_cb = OpenAICallbackHandler()\n",
    "\n",
    "print(totals_cb)\n",
    "\n",
    "simple_chain = LLMChain(\n",
    "    llm=ChatOpenAI(temperature=0.0),\n",
    "    prompt=ChatPromptTemplate.from_template(\"{prompt}\")\n",
    ")\n",
    "\n",
    "get_response = lambda x: simple_chain(x, callbacks=[totals_cb])['text']"
   ]
  },
  {
   "cell_type": "code",
   "execution_count": null,
   "id": "28f5ef96",
   "metadata": {
    "scrolled": true
   },
   "outputs": [],
   "source": [
    "response = get_response(\"Explain Python coroutines in one paragraph\")\n",
    "\n",
    "print(response)"
   ]
  },
  {
   "cell_type": "code",
   "execution_count": null,
   "id": "a81713f4-d59e-4023-99ca-430a0bebf678",
   "metadata": {},
   "outputs": [],
   "source": [
    "moderation_resp = openai.Moderation.create(\n",
    "    input=response\n",
    ")\n",
    "\n",
    "moderation_resp"
   ]
  },
  {
   "cell_type": "code",
   "execution_count": null,
   "id": "b338446b",
   "metadata": {},
   "outputs": [],
   "source": [
    "# Offensive language used for educational purposes only\n",
    "\n",
    "moderation_resp = openai.Moderation.create(\n",
    "    input=\"If you give one more stupid exaplanation I'll kill myself!\"\n",
    ")\n",
    "\n",
    "print(moderation_resp)"
   ]
  },
  {
   "cell_type": "code",
   "execution_count": null,
   "id": "9a21657c",
   "metadata": {
    "jupyter": {
     "source_hidden": true
    }
   },
   "outputs": [],
   "source": []
  }
 ],
 "metadata": {
  "kernelspec": {
   "display_name": "Python 3 (ipykernel)",
   "language": "python",
   "name": "python3"
  },
  "language_info": {
   "codemirror_mode": {
    "name": "ipython",
    "version": 3
   },
   "file_extension": ".py",
   "mimetype": "text/x-python",
   "name": "python",
   "nbconvert_exporter": "python",
   "pygments_lexer": "ipython3",
   "version": "3.11.4"
  }
 },
 "nbformat": 4,
 "nbformat_minor": 5
}
