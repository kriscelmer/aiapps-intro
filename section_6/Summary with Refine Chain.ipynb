{
 "cells": [
  {
   "cell_type": "markdown",
   "id": "b05fbc27",
   "metadata": {},
   "source": [
    "# Summary with Refine Chain"
   ]
  },
  {
   "cell_type": "code",
   "execution_count": null,
   "id": "0458e992",
   "metadata": {},
   "outputs": [],
   "source": [
    "import os\n",
    "import openai\n",
    "from IPython.display import display, HTML, Markdown\n",
    "from pprint import pprint\n",
    "\n",
    "from dotenv import load_dotenv, find_dotenv\n",
    "_ = load_dotenv(find_dotenv()) # read local .env file\n",
    "openai.api_key = os.environ['OPENAI_API_KEY']"
   ]
  },
  {
   "cell_type": "code",
   "execution_count": null,
   "id": "6f88d11f",
   "metadata": {},
   "outputs": [],
   "source": [
    "from langchain.callbacks import OpenAICallbackHandler\n",
    "\n",
    "totals_cb = OpenAICallbackHandler()\n",
    "\n",
    "print(totals_cb)"
   ]
  },
  {
   "cell_type": "markdown",
   "id": "a31e6ce3",
   "metadata": {},
   "source": [
    "---"
   ]
  },
  {
   "cell_type": "markdown",
   "id": "dc5326f9",
   "metadata": {},
   "source": [
    "## Mind the costs!!!\n",
    "\n",
    "This notebook performs many requests to OpenAI LLM endpoints with very large count of tokens.\n",
    "\n",
    "Running it with latest and greatest models may cost several $ per one PDF summarized!!!"
   ]
  },
  {
   "cell_type": "markdown",
   "id": "c57b5112",
   "metadata": {},
   "source": [
    "---"
   ]
  },
  {
   "cell_type": "code",
   "execution_count": null,
   "id": "a7395005",
   "metadata": {},
   "outputs": [],
   "source": [
    "from langchain.document_loaders import PyPDFLoader\n",
    "\n",
    "papers=[\n",
    "    \"https://arxiv.org/pdf/2304.00612.pdf\", # total tokens used - ca. 30k\n",
    "    \"https://arxiv.org/pdf/2305.04091.pdf\", # total tokens used - ca. 42k\n",
    "    \"https://arxiv.org/pdf/2307.10195.pdf\", # total tokens used - ca. 24k\n",
    "    \"https://arxiv.org/pdf/2210.03629.pdf\", # total tokens used - ca. 86k\n",
    "    \"https://arxiv.org/pdf/2307.10169.pdf\", # total tokens used - ca. 200k\n",
    "]\n",
    "\n",
    "loader = PyPDFLoader(papers[0])\n",
    "\n",
    "docs = loader.load()\n",
    "\n",
    "print(f\"Document has {len(docs)} pages\\n\")\n",
    "pprint(docs[0])"
   ]
  },
  {
   "cell_type": "code",
   "execution_count": null,
   "id": "a9ed84e1",
   "metadata": {},
   "outputs": [],
   "source": [
    "from langchain.chat_models import ChatOpenAI\n",
    "from langchain.chains.summarize import load_summarize_chain\n",
    "\n",
    "summary_chain_refine = load_summarize_chain(ChatOpenAI(temperature=0.0), chain_type=\"refine\", return_intermediate_steps=True)"
   ]
  },
  {
   "cell_type": "code",
   "execution_count": null,
   "id": "c5ac55a0",
   "metadata": {},
   "outputs": [],
   "source": [
    "# Initial Chain prompt template\n",
    "\n",
    "summary_chain_refine.initial_llm_chain.prompt.template"
   ]
  },
  {
   "cell_type": "code",
   "execution_count": null,
   "id": "1650c17c",
   "metadata": {},
   "outputs": [],
   "source": [
    "# Refine Chain prompt template\n",
    "\n",
    "summary_chain_refine.refine_llm_chain.prompt.template"
   ]
  },
  {
   "cell_type": "code",
   "execution_count": null,
   "id": "2bec9182",
   "metadata": {},
   "outputs": [],
   "source": [
    "summary_refine = summary_chain_refine(docs, callbacks=[totals_cb])"
   ]
  },
  {
   "cell_type": "code",
   "execution_count": null,
   "id": "76d49c67",
   "metadata": {},
   "outputs": [],
   "source": [
    "pprint(summary_refine[\"intermediate_steps\"])"
   ]
  },
  {
   "cell_type": "code",
   "execution_count": null,
   "id": "c3a48496",
   "metadata": {},
   "outputs": [],
   "source": [
    "display(Markdown(summary_refine[\"output_text\"]))"
   ]
  },
  {
   "cell_type": "code",
   "execution_count": null,
   "id": "732eeac7",
   "metadata": {},
   "outputs": [],
   "source": [
    "pprint(totals_cb)"
   ]
  },
  {
   "cell_type": "code",
   "execution_count": null,
   "id": "968422cc",
   "metadata": {
    "jupyter": {
     "source_hidden": true
    }
   },
   "outputs": [],
   "source": []
  }
 ],
 "metadata": {
  "kernelspec": {
   "display_name": "Python 3 (ipykernel)",
   "language": "python",
   "name": "python3"
  },
  "language_info": {
   "codemirror_mode": {
    "name": "ipython",
    "version": 3
   },
   "file_extension": ".py",
   "mimetype": "text/x-python",
   "name": "python",
   "nbconvert_exporter": "python",
   "pygments_lexer": "ipython3",
   "version": "3.11.4"
  }
 },
 "nbformat": 4,
 "nbformat_minor": 5
}
