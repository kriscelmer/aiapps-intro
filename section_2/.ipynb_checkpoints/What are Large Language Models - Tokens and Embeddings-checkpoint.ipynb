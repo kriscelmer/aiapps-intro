{
 "cells": [
  {
   "cell_type": "code",
   "execution_count": null,
   "id": "b0b38eab",
   "metadata": {},
   "outputs": [],
   "source": [
    "import os\n",
    "import openai\n",
    "\n",
    "from dotenv import load_dotenv, find_dotenv\n",
    "_ = load_dotenv(find_dotenv()) # read local .env file\n",
    "openai.api_key = os.environ['OPENAI_API_KEY']"
   ]
  },
  {
   "cell_type": "code",
   "execution_count": null,
   "id": "22cb61c8",
   "metadata": {},
   "outputs": [],
   "source": [
    "# Docs for tiktoken: https://pub.dev/documentation/tiktoken/latest/\n",
    "import tiktoken"
   ]
  },
  {
   "cell_type": "code",
   "execution_count": null,
   "id": "53c85feb",
   "metadata": {},
   "outputs": [],
   "source": [
    "model = \"text-embedding-ada-002\"\n",
    "enc = tiktoken.encoding_for_model(model)\n",
    "\n",
    "text = \"This is an example sentence\"\n",
    "\n",
    "tokens = enc.encode(text)\n",
    "print(tokens)"
   ]
  },
  {
   "cell_type": "code",
   "execution_count": null,
   "id": "c5854fe7",
   "metadata": {},
   "outputs": [],
   "source": [
    "embeddings = openai.Embedding.create(\n",
    "   model=model,\n",
    "   input=text\n",
    ")"
   ]
  },
  {
   "cell_type": "code",
   "execution_count": null,
   "id": "1a6fa3f9",
   "metadata": {},
   "outputs": [],
   "source": [
    "print(len(embeddings[\"data\"][0][\"embedding\"]))\n",
    "print(embeddings[\"data\"][0][\"embedding\"])"
   ]
  },
  {
   "cell_type": "code",
   "execution_count": null,
   "id": "3342f7c8",
   "metadata": {},
   "outputs": [],
   "source": []
  }
 ],
 "metadata": {
  "kernelspec": {
   "display_name": "Python 3 (ipykernel)",
   "language": "python",
   "name": "python3"
  },
  "language_info": {
   "codemirror_mode": {
    "name": "ipython",
    "version": 3
   },
   "file_extension": ".py",
   "mimetype": "text/x-python",
   "name": "python",
   "nbconvert_exporter": "python",
   "pygments_lexer": "ipython3",
   "version": "3.11.4"
  }
 },
 "nbformat": 4,
 "nbformat_minor": 5
}
