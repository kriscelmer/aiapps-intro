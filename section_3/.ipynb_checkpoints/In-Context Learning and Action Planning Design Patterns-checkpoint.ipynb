{
 "cells": [
  {
   "cell_type": "markdown",
   "id": "af280a05",
   "metadata": {},
   "source": [
    "# In-Context Learning and Action Planning Design Patterns"
   ]
  },
  {
   "attachments": {},
   "cell_type": "markdown",
   "id": "12d4d594-6271-4737-a698-80519871fa0d",
   "metadata": {},
   "source": [
    "![Image](./Image-3-1.jpeg)"
   ]
  },
  {
   "cell_type": "code",
   "execution_count": null,
   "id": "d7966282",
   "metadata": {},
   "outputs": [],
   "source": [
    "import os\n",
    "import openai\n",
    "from IPython.display import display, HTML, Markdown\n",
    "from pprint import pprint\n",
    "\n",
    "from dotenv import load_dotenv, find_dotenv\n",
    "_ = load_dotenv(find_dotenv()) # read local .env file\n",
    "openai.api_key = os.environ['OPENAI_API_KEY']\n",
    "\n",
    "total_cost = 0.0"
   ]
  },
  {
   "cell_type": "code",
   "execution_count": null,
   "id": "090c3640",
   "metadata": {},
   "outputs": [],
   "source": [
    "from langchain.chat_models import ChatOpenAI\n",
    "from langchain.schema import HumanMessage, AIMessage\n",
    "from langchain.callbacks import get_openai_callback\n",
    "\n",
    "total_cost = 0.0\n",
    "\n",
    "def get_response(prompt: str, temperature=0.0) -> str:\n",
    "    global total_cost\n",
    "    \n",
    "    chat_llm = ChatOpenAI(temperature=temperature)\n",
    "    input_messages = [HumanMessage(content=prompt)]\n",
    "\n",
    "    with get_openai_callback() as cb:\n",
    "        output_message = chat_llm(input_messages)\n",
    "        \n",
    "    total_cost += cb.total_cost\n",
    "    \n",
    "    return output_message.content"
   ]
  },
  {
   "cell_type": "markdown",
   "id": "35a39521",
   "metadata": {},
   "source": [
    "### Role of Context in QA - Closed book vs Open book"
   ]
  },
  {
   "cell_type": "markdown",
   "id": "282c1332",
   "metadata": {},
   "source": [
    "**Closed book** prompt - response derived from **parametric memory** of the Model"
   ]
  },
  {
   "cell_type": "markdown",
   "id": "c8928de1",
   "metadata": {},
   "source": [
    "Example of a question hard to answer without additional information, from the paper [*GPT-4 Technical Report*](https://arxiv.org/pdf/2303.08774.pdf).\n",
    "\n",
    "See Problem 5 in Section A.8 (page 27)"
   ]
  },
  {
   "cell_type": "code",
   "execution_count": null,
   "id": "2a2164c3",
   "metadata": {},
   "outputs": [],
   "source": [
    "prompt = \"\"\"\n",
    "Which of the following artists explored themes related to the human\n",
    "body and its relationship to the environment?\n",
    "Choose from the following options: [A] Ai Weiwei [B] Doris Salcedo [C] Kiki\n",
    "Smith [D] El Anatsui\n",
    "\"\"\"\n",
    "\n",
    "response = get_response(prompt)\n",
    "\n",
    "display(Markdown(response))"
   ]
  },
  {
   "cell_type": "markdown",
   "id": "8fdc88f5",
   "metadata": {},
   "source": [
    "**Open book** prompt - response derived from the **context** and **parametric memory** of the Model"
   ]
  },
  {
   "cell_type": "code",
   "execution_count": null,
   "id": "082d6c41",
   "metadata": {},
   "outputs": [],
   "source": [
    "prompt = \"\"\"\n",
    "Which of the following artists explored themes related to the human\n",
    "body and its relationship to the environment?\n",
    "Choose from the following options: [A] Ai Weiwei [B] Doris Salcedo [C] Kiki\n",
    "Smith [D] El Anatsui\n",
    "\n",
    "Use the context to answer question:\n",
    "Kiki Smith is known for her exploration of themes\n",
    "related to the human body and its relationship to the environment. This\n",
    "is evident in her works, which often feature figures that are fragmented or\n",
    "incomplete, as if to suggest the interconnectedness of the human body and the\n",
    "natural world. In contrast, the other options listed do not seem to have a\n",
    "focus on these themes. Ai Weiwei is known for his political activism and his\n",
    "use of traditional Chinese materials and motifs in his works. Doris Salcedo\n",
    "is known for her large-scale installations that explore themes of violence and\n",
    "trauma. El Anatsui is known for his use of recycled materials, such as bottle\n",
    "caps and metal scraps, to create large-scale installations that explore themes\n",
    "of globalization and cultural identity.\n",
    "\"\"\"\n",
    "\n",
    "response = get_response(prompt)\n",
    "\n",
    "display(Markdown(response))"
   ]
  },
  {
   "cell_type": "code",
   "execution_count": null,
   "id": "bec808c2",
   "metadata": {},
   "outputs": [],
   "source": [
    "prompt = \"\"\"\n",
    "What gcc option should I use to compile binary for i386 cpu?\n",
    "\"\"\"\n",
    "\n",
    "response = get_response(prompt)\n",
    "\n",
    "display(Markdown(response))"
   ]
  },
  {
   "cell_type": "markdown",
   "id": "50b992d5",
   "metadata": {},
   "source": [
    "Copy text from GCC online docs page https://gcc.gnu.org/onlinedocs/gcc/x86-Options.html and paste into Context below"
   ]
  },
  {
   "cell_type": "code",
   "execution_count": null,
   "id": "a571648b",
   "metadata": {},
   "outputs": [],
   "source": [
    "prompt = \"\"\"\n",
    "Answer the question at the end using the context delimited by triple backtics.\n",
    "\n",
    "Context:\n",
    "```\n",
    "These ‘-m’ options are defined for the x86 family of computers.\n",
    "\n",
    "-march=cpu-type\n",
    "Generate instructions for the machine type cpu-type. In contrast to -mtune=cpu-type, which merely tunes the generated code for the specified cpu-type, -march=cpu-type allows GCC to generate code that may not run at all on processors other than the one indicated. Specifying -march=cpu-type implies -mtune=cpu-type, except where noted otherwise.\n",
    "\n",
    "The choices for cpu-type are:\n",
    "\n",
    "‘native’\n",
    "This selects the CPU to generate code for at compilation time by determining the processor type of the compiling machine. Using -march=native enables all instruction subsets supported by the local machine (hence the result might not run on different machines). Using -mtune=native produces code optimized for the local machine under the constraints of the selected instruction set.\n",
    "\n",
    "‘x86-64’\n",
    "A generic CPU with 64-bit extensions.\n",
    "\n",
    "‘x86-64-v2’\n",
    "‘x86-64-v3’\n",
    "‘x86-64-v4’\n",
    "These choices for cpu-type select the corresponding micro-architecture level from the x86-64 psABI. On ABIs other than the x86-64 psABI they select the same CPU features as the x86-64 psABI documents for the particular micro-architecture level.\n",
    "\n",
    "Since these cpu-type values do not have a corresponding -mtune setting, using -march with these values enables generic tuning. Specific tuning can be enabled using the -mtune=other-cpu-type option with an appropriate other-cpu-type value.\n",
    "\n",
    "‘i386’\n",
    "Original Intel i386 CPU.\n",
    "\n",
    "‘i486’\n",
    "Intel i486 CPU. (No scheduling is implemented for this chip.)\n",
    "```\n",
    "\n",
    "Question: What gcc option should I use to compile binary for i386 cpu?\n",
    "\"\"\"\n",
    "\n",
    "response = get_response(prompt)\n",
    "\n",
    "display(Markdown(response))"
   ]
  },
  {
   "cell_type": "markdown",
   "id": "e94e79da",
   "metadata": {},
   "source": [
    "### Learning from examples: Zero-shot, One-shot and Few-shot prompts"
   ]
  },
  {
   "cell_type": "markdown",
   "id": "245e2375",
   "metadata": {},
   "source": [
    "Example movie reviews taken from **imdb** [dataset at HugginFace](https://huggingface.co/datasets/imdb)\n",
    "Dataset published in *Andrew L. Maas, Raymond E. Daly, Peter T. Pham, Dan Huang, Andrew Y. Ng, and Christopher Potts. (2011). Learning Word Vectors for Sentiment Analysis. The 49th Annual Meeting of the Association for Computational Linguistics (ACL 2011).* [link to paper](http://ai.stanford.edu/~amaas/papers/wvSent_acl2011.pdf)"
   ]
  },
  {
   "cell_type": "markdown",
   "id": "12d3b8d5",
   "metadata": {},
   "source": [
    "**Zero shot** - the prompt has a detailed description of a task and output format"
   ]
  },
  {
   "cell_type": "code",
   "execution_count": null,
   "id": "f1f3451c",
   "metadata": {},
   "outputs": [],
   "source": [
    "prompt = \"\"\"\n",
    "Rate the movie review below as negative or positive.\n",
    "\n",
    "Movie review:\n",
    "its a totally average film with a few semi-alright action sequences that make the plot \n",
    "seem a little better and remind the viewer of the classic van dam films. \n",
    "parts of the plot don't make sense and seem to be added in to use up time. \n",
    "the end plot is that of a very basic type that doesn't leave the viewer guessing and \n",
    "any twists are obvious from the beginning. the end scene with the flask backs don't \n",
    "make sense as they are added in and seem to have little relevance to the history of \n",
    "van dam's character. not really worth watching again, bit disappointed in the end production, \n",
    "even though it is apparent it was shot on a low budget certain shots and sections in \n",
    "the film are of poor directed quality.\n",
    "\n",
    "Rating:\n",
    "\"\"\"\n",
    "\n",
    "response = get_response(prompt)\n",
    "\n",
    "display(Markdown(response))"
   ]
  },
  {
   "cell_type": "markdown",
   "id": "642b14cb",
   "metadata": {},
   "source": [
    "**One-shot** - the prompt has 1 example of a task and a desired output format"
   ]
  },
  {
   "cell_type": "code",
   "execution_count": null,
   "id": "8b0d2b76",
   "metadata": {},
   "outputs": [],
   "source": [
    "prompt = \"\"\"\n",
    "Movie review:\n",
    "Never ever take a film just for its good looking title. Although it all starts well, \n",
    "the film suffers the same imperfections you see in B-films. Its like at a certain moment \n",
    "the writer does not any more how to end the film, so he ends it in a way nobody suspects \n",
    "it thinking this way he is ingenious. A film to be listed on top of the garbage list.\n",
    "\n",
    "Rating:\n",
    "Negative\n",
    "\n",
    "Movie review:\n",
    "I thought that this was actually the best vampire movie that I've ever seen. I've seen a lot \n",
    "too. The effects were great, and the casting was brilliant. It was an all around good movie. \n",
    "The makeup and costumes were great too. I would recommend it, but not for kids. It's not a \n",
    "children's movie.\n",
    "\n",
    "Rating:\n",
    "\"\"\"\n",
    "\n",
    "response = get_response(prompt)\n",
    "\n",
    "display(Markdown(response))"
   ]
  },
  {
   "cell_type": "markdown",
   "id": "1130088d",
   "metadata": {},
   "source": [
    "**Few-shot** - the prompt has many examples of inputs and corresponding outputs"
   ]
  },
  {
   "cell_type": "code",
   "execution_count": null,
   "id": "79b89791",
   "metadata": {},
   "outputs": [],
   "source": [
    "test_reviews = [\n",
    "    (\"Negative\", \"I and a friend rented this movie. We both found the movie soundtrack and production techniques to be lagging. The movie's plot appeared to drag on throughout with little surprise in the ending. We both agreed that the movie could have been compressed into roughly an hour giving it more suspense and moving plot.\"),\n",
    "    (\"Negative\", \"Formulaic slasher film, only this one stars three ten year olds (all born during a lunar eclipse) as the killers. Nice, huh? A little bit of gore and a nice nude scene may make this worthwhile for diehard fans of the genre, others beware.\"),\n",
    "    (\"Positive\", \"This is possibly the most perfect film I have ever seen - in acting, adaptation and direction. It is self-contained and of a kind, so there is no point in saying that it is better or worse than other great films, just that it can stand by itself as a perfect work of art. And it was fun watching confused horror fans getting up and walking out!\"),\n",
    "    (\"Positive\", \"I must confess that I don't remember this film very well. But, certainly I liked it. I think it was the best adaptation from Burroughs novel, really. And of course it's one of the best movie from Christopher Lambert.<br /><br />A good movie about Tarzan, as cult as the ones with Weissmuller.\"),\n",
    "]"
   ]
  },
  {
   "cell_type": "code",
   "execution_count": null,
   "id": "54aef7ef",
   "metadata": {},
   "outputs": [],
   "source": [
    "prompt = f\"\"\"\n",
    "Input:\n",
    "Widow hires a psychopath as a handyman. \n",
    "Sloppy film noir thriller which doesn't make much of its tension promising set-up. (3/10)\n",
    "\n",
    "Output:\n",
    "0\n",
    "\n",
    "Input:\n",
    "A sprawling, overambitious, plotless comedy that has no dramatic center. \n",
    "It was probably intended to have an epic vision and a surrealistic flair (at least in some \n",
    "episodes), but the separate stories are never elevated into a meaningful whole, and the \n",
    "laughs are few and far between. Amusing ending, though. (*1/2)\n",
    "\n",
    "Output:\n",
    "0\n",
    "\n",
    "Input:\n",
    "I found this movie really hard to sit through, my attention kept wandering off the tv. \n",
    "As far as romantic movies go..this one is the worst I've seen. Don't bother with it.\n",
    "\n",
    "Output:\n",
    "0\n",
    "\n",
    "Input:\n",
    "An obscure horror show filmed in the Everglades. Two couples stay overnight in a cabin \n",
    "after being made a little uneasy by the unfriendliness of the locals. Who, or what, are \n",
    "the Blood Stalkers? After awhile they find out. Watch for the character of the village \n",
    "idiot who clucks like a chicken, he certainly is weird.\n",
    "\n",
    "Output:\n",
    "0\n",
    "\n",
    "Input:\n",
    "This film features two of my favorite guilty pleasures. Sure, the effects are laughable, \n",
    "the story confused, but just watching Hasselhoff in his Knight Rider days is always fun. \n",
    "I especially like the old hotel they used to shoot this in, it added to what little suspense \n",
    "was mustered. Give it a 3.\n",
    "\n",
    "Output:\n",
    "0\n",
    "\n",
    "Input:\n",
    "One of the flat-out drollest movies of all-time. Sim and Rutherford are at their best \n",
    "matching wits over the predicament of an all-boys and all-girls school sharing the same \n",
    "quarters. Slapstick has never been this sophisticated.\n",
    "\n",
    "Output:\n",
    "1\n",
    "\n",
    "Input:\n",
    "The greatest Tarzan ever made! This movie is done in a way that no other Tarzan ever has \n",
    "come close in doing. It has every thing in it that you would want in a Tarzan movie. \n",
    "No other Tarzan movie ever has or ever will portray the character this well. \n",
    "I would say that if you have seen a Tarzan movie and liked it you should see this one \n",
    "you will love it, and if you have never seen Tarzan you should see this one and forget \n",
    "the rest of them.\n",
    "\n",
    "Output:\n",
    "1\n",
    "\n",
    "Input:\n",
    "Watch it with an open mind, it is very different, nothing's cutesy about this. Very well done \n",
    "realistic tale of Tarzan. The animatronics chimpazees are well done for '84, \n",
    "Christopher Lambert was brilliant imitating chimpazee language and behavior. \n",
    "I wouldn't be surprised if he took lessons from Jane Goodall.\n",
    "\n",
    "Output:\n",
    "1\n",
    "\n",
    "Input:\n",
    "I was completely drawn into the story, but I wonder if perhaps I shouldn't have been so \n",
    "sympathetic to the Hurt character's plight for respect. Because when it boils down, I really \n",
    "think that glam reporters such as Barbara Walters is the devil. ...or maybe the filmmakers \n",
    "were telling us that we're all unknowing supporters of fluff news stories.\n",
    "\n",
    "Output:\n",
    "1\n",
    "\n",
    "Input:\n",
    "This movie was a suprise for me while I was surfing from channel to channel... I don't know \n",
    "why but it filled in me with warmth and happiness. This is what a high budget movie can not \n",
    "do mostly. I liked it, this is \"a must see\" one..\n",
    "\n",
    "Output:\n",
    "1\n",
    "\n",
    "Input:\n",
    "{test_reviews[3][1]}\n",
    "\n",
    "Output:\n",
    "\"\"\"\n",
    "\n",
    "response = get_response(prompt)\n",
    "\n",
    "display(Markdown(response))"
   ]
  },
  {
   "cell_type": "markdown",
   "id": "8a09c7d9",
   "metadata": {},
   "source": [
    "### Action Planning - Problem solving with Tools"
   ]
  },
  {
   "cell_type": "markdown",
   "id": "3160dea4-3ced-43f2-a32b-a3cee1d31884",
   "metadata": {},
   "source": [
    "[Plan-and-Solve Prompting: Improving Zero-Shot Chain-of-Thought\n",
    "Reasoning by Large Language Models](https://arxiv.org/pdf/2305.04091.pdf)"
   ]
  },
  {
   "cell_type": "code",
   "execution_count": null,
   "id": "ef8e2223",
   "metadata": {},
   "outputs": [],
   "source": [
    "prompt = \"\"\"\n",
    "Act as an application developer using hypothetical tools described below within ``` delimiters. \n",
    "\n",
    "Tools: ```\n",
    "Function “get_customer” takes customer name as parameter and returns business needs of the customer,\n",
    "derived from recent conversations. \n",
    "Function “list_customers” takes no arguments and returns a list of customer names. \n",
    "\n",
    "Function “list_new_products” takes no arguments and returns a list of new product names. \n",
    "Function “get_product” takes product name as argument and returns a list of business needs to be addressed by the product. \n",
    "\n",
    "Function “get_billing” takes customer name as argument and returns 12 months billing summary for the customer. \n",
    "Function “top_spenders” takes integer argument “n” and returns a list of “n” names \n",
    "of top paying customers in previous 12 months. \n",
    "```\n",
    "\n",
    "Question: which new products we should focus first on to address business needs of our top 5 paying customers? \n",
    "\n",
    "Think about a detailed action plan to answer the question above using available tools if necessary.\n",
    "\"\"\"\n",
    "\n",
    "response = get_response(prompt)\n",
    "\n",
    "display(Markdown(response))"
   ]
  },
  {
   "cell_type": "code",
   "execution_count": null,
   "id": "abad877c",
   "metadata": {},
   "outputs": [],
   "source": []
  },
  {
   "cell_type": "code",
   "execution_count": null,
   "id": "35821520",
   "metadata": {},
   "outputs": [],
   "source": [
    "print(f\"Total cost of running the notebooks is: ${total_cost:.6f}\")"
   ]
  },
  {
   "cell_type": "code",
   "execution_count": null,
   "id": "421be67e",
   "metadata": {},
   "outputs": [],
   "source": []
  }
 ],
 "metadata": {
  "kernelspec": {
   "display_name": "Python 3 (ipykernel)",
   "language": "python",
   "name": "python3"
  },
  "language_info": {
   "codemirror_mode": {
    "name": "ipython",
    "version": 3
   },
   "file_extension": ".py",
   "mimetype": "text/x-python",
   "name": "python",
   "nbconvert_exporter": "python",
   "pygments_lexer": "ipython3",
   "version": "3.11.4"
  }
 },
 "nbformat": 4,
 "nbformat_minor": 5
}
