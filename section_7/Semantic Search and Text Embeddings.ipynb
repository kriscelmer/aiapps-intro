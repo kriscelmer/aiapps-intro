{
 "cells": [
  {
   "cell_type": "markdown",
   "id": "f3b29d87-b9ed-46fe-9684-c9f57056c952",
   "metadata": {},
   "source": [
    "# Semantic Search and Text Embeddings"
   ]
  },
  {
   "cell_type": "code",
   "execution_count": null,
   "id": "0ffd0aae",
   "metadata": {},
   "outputs": [],
   "source": [
    "import os\n",
    "import openai\n",
    "from IPython.display import display, HTML, Markdown\n",
    "from pprint import pprint\n",
    "\n",
    "from dotenv import load_dotenv, find_dotenv\n",
    "_ = load_dotenv(find_dotenv()) # read local .env file\n",
    "openai.api_key = os.environ['OPENAI_API_KEY']"
   ]
  },
  {
   "cell_type": "code",
   "execution_count": null,
   "id": "27969648",
   "metadata": {},
   "outputs": [],
   "source": [
    "from langchain.callbacks import OpenAICallbackHandler\n",
    "\n",
    "totals_cb = OpenAICallbackHandler()\n",
    "\n",
    "print(totals_cb)"
   ]
  },
  {
   "cell_type": "code",
   "execution_count": null,
   "id": "1f2d20a6",
   "metadata": {},
   "outputs": [],
   "source": [
    "documents = [\n",
    "    \"Weather in London is usually cloudy and rainy.\",\n",
    "    \"Seymour looked through the window. Streets were still crowded by people moving quickly. Weather in London is usually cloudy and rainy. Just like this afternoon.\",\n",
    "    \"Oslo is very close to great ski resorts.\",\n",
    "    \"America’s wild horses have adapted to surviving on native grasses and shrubs available.\",\n",
    "    \"Tom is chasing Jerry around the house.\",\n",
    "    \"The movie shows true nature of life in South Pacific.\",\n",
    "    \"Le film montre la vraie nature de la vie dans le Pacifique Sud.\",\n",
    "]"
   ]
  },
  {
   "cell_type": "code",
   "execution_count": null,
   "id": "f83a990f",
   "metadata": {},
   "outputs": [],
   "source": [
    "from langchain.embeddings.openai import OpenAIEmbeddings\n",
    "from langchain.vectorstores import Chroma\n",
    "\n",
    "db = Chroma.from_texts(documents, OpenAIEmbeddings())"
   ]
  },
  {
   "cell_type": "code",
   "execution_count": null,
   "id": "817a9828-bea3-4da2-abb8-d4cf7cd4b5fa",
   "metadata": {},
   "outputs": [],
   "source": [
    "doc_with_embeddings = db.get(offset=0, limit=1, include=[\"documents\", \"embeddings\"])\n",
    "\n",
    "print(doc_with_embeddings[\"documents\"][0])\n",
    "\n",
    "emb = doc_with_embeddings[\"embeddings\"][0]\n",
    "\n",
    "print(f\"\\nLength of embeddings: {len(emb)}\")\n",
    "pprint(emb)"
   ]
  },
  {
   "cell_type": "code",
   "execution_count": null,
   "id": "9a1effc2",
   "metadata": {},
   "outputs": [],
   "source": [
    "query = \"What is Seymour doing?\"\n",
    "\n",
    "docs = db.similarity_search(query, k=1)\n",
    "\n",
    "pprint(docs)"
   ]
  },
  {
   "cell_type": "code",
   "execution_count": null,
   "id": "005e35f4-5713-4c48-a6ec-718962f26654",
   "metadata": {},
   "outputs": [],
   "source": [
    "query = \"What is Seymour doing?\"\n",
    "\n",
    "docs = db.similarity_search(query, k=3)\n",
    "\n",
    "pprint(docs)"
   ]
  },
  {
   "cell_type": "markdown",
   "id": "e450022d-e0f3-4d77-902e-58ae29ea8fc9",
   "metadata": {},
   "source": [
    "## Semantic Similarity Search returns *most similar documents*, NOT JUST RELEVANT DOCUMENTS! "
   ]
  },
  {
   "cell_type": "code",
   "execution_count": null,
   "id": "be707dd8-eb6d-410d-a74e-3a0655dbf128",
   "metadata": {},
   "outputs": [],
   "source": [
    "query = \"What is Seymour doing?\"\n",
    "\n",
    "docs = db.similarity_search_with_relevance_scores(query, k=3)\n",
    "\n",
    "pprint(docs)"
   ]
  },
  {
   "cell_type": "code",
   "execution_count": null,
   "id": "cff07c93",
   "metadata": {},
   "outputs": [],
   "source": [
    "query = \"What is the weather today?\"\n",
    "\n",
    "docs = db.similarity_search_with_relevance_scores(query, k=3)\n",
    "\n",
    "pprint(docs)"
   ]
  },
  {
   "cell_type": "code",
   "execution_count": null,
   "id": "a879002e",
   "metadata": {},
   "outputs": [],
   "source": [
    "query = \"Weather in London is usually cloudy and rainy.\"\n",
    "\n",
    "docs = db.similarity_search_with_relevance_scores(query, k=7)\n",
    "\n",
    "pprint(docs)"
   ]
  },
  {
   "cell_type": "code",
   "execution_count": null,
   "id": "424ee17e",
   "metadata": {},
   "outputs": [],
   "source": [
    "query = \"What is the weather in London usually like?\"\n",
    "\n",
    "docs = db.similarity_search_with_relevance_scores(query, k=3)\n",
    "\n",
    "pprint(docs)"
   ]
  },
  {
   "cell_type": "code",
   "execution_count": null,
   "id": "0f164d1a",
   "metadata": {},
   "outputs": [],
   "source": [
    "query = \"What is a diet of mustangs?\"\n",
    "\n",
    "docs = db.similarity_search_with_relevance_scores(query, k=3)\n",
    "\n",
    "pprint(docs)"
   ]
  },
  {
   "cell_type": "code",
   "execution_count": null,
   "id": "bb126b26",
   "metadata": {},
   "outputs": [],
   "source": [
    "query = \"Tell me about European capitals\"\n",
    "\n",
    "docs = db.similarity_search_with_relevance_scores(query, k=3)\n",
    "\n",
    "pprint(docs)"
   ]
  },
  {
   "cell_type": "code",
   "execution_count": null,
   "id": "9b1e15cb-007d-4397-ba09-11b90c348bd2",
   "metadata": {},
   "outputs": [],
   "source": [
    "query = \"The movie shows true nature of life in South Pacific.\"\n",
    "\n",
    "docs = db.similarity_search_with_relevance_scores(query, k=3)\n",
    "\n",
    "pprint(docs)"
   ]
  },
  {
   "cell_type": "code",
   "execution_count": null,
   "id": "97068f63",
   "metadata": {},
   "outputs": [],
   "source": [
    "pprint(totals_cb)"
   ]
  },
  {
   "cell_type": "code",
   "execution_count": null,
   "id": "70bcca6e-f46c-465d-9236-c86104012db5",
   "metadata": {},
   "outputs": [],
   "source": []
  }
 ],
 "metadata": {
  "kernelspec": {
   "display_name": "Python 3 (ipykernel)",
   "language": "python",
   "name": "python3"
  },
  "language_info": {
   "codemirror_mode": {
    "name": "ipython",
    "version": 3
   },
   "file_extension": ".py",
   "mimetype": "text/x-python",
   "name": "python",
   "nbconvert_exporter": "python",
   "pygments_lexer": "ipython3",
   "version": "3.11.4"
  }
 },
 "nbformat": 4,
 "nbformat_minor": 5
}
