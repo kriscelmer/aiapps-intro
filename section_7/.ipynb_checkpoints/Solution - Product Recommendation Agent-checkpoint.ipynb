{
 "cells": [
  {
   "cell_type": "markdown",
   "id": "57ba1135",
   "metadata": {},
   "source": [
    "# Solution - Product Recommendation Agent"
   ]
  },
  {
   "cell_type": "code",
   "execution_count": 1,
   "id": "fb2f71b7",
   "metadata": {},
   "outputs": [],
   "source": [
    "import os\n",
    "import openai\n",
    "from IPython.display import display, HTML, Markdown\n",
    "from pprint import pprint\n",
    "\n",
    "from dotenv import load_dotenv, find_dotenv\n",
    "_ = load_dotenv(find_dotenv()) # read local .env file\n",
    "\n",
    "openai.api_key = os.environ['OPENAI_API_KEY']"
   ]
  },
  {
   "cell_type": "code",
   "execution_count": 2,
   "id": "64217a20",
   "metadata": {},
   "outputs": [
    {
     "name": "stdout",
     "output_type": "stream",
     "text": [
      "Tokens Used: 0\n",
      "\tPrompt Tokens: 0\n",
      "\tCompletion Tokens: 0\n",
      "Successful Requests: 0\n",
      "Total Cost (USD): $0.0\n"
     ]
    }
   ],
   "source": [
    "from langchain.callbacks import OpenAICallbackHandler\n",
    "\n",
    "totals_cb = OpenAICallbackHandler()\n",
    "\n",
    "print(totals_cb)"
   ]
  },
  {
   "cell_type": "code",
   "execution_count": null,
   "id": "2ff26d00",
   "metadata": {},
   "outputs": [],
   "source": [
    "from langchain.document_loaders import TextLoader\n",
    "\n",
    "loader = TextLoader(\"../../state_of_the_union.txt\")\n",
    "documents = loader.load()"
   ]
  },
  {
   "cell_type": "code",
   "execution_count": null,
   "id": "ff91ea3c",
   "metadata": {},
   "outputs": [],
   "source": []
  },
  {
   "cell_type": "code",
   "execution_count": 3,
   "id": "521474c2",
   "metadata": {},
   "outputs": [],
   "source": [
    "from langchain.chat_models import ChatOpenAI\n",
    "from langchain.chains import ConversationChain\n",
    "\n",
    "conversation_chain = ConversationChain(\n",
    "    llm=ChatOpenAI(temperature=0.0)\n",
    ")"
   ]
  },
  {
   "cell_type": "code",
   "execution_count": 6,
   "id": "b1304de5",
   "metadata": {},
   "outputs": [
    {
     "name": "stdout",
     "output_type": "stream",
     "text": [
      "Running on local URL:  http://127.0.0.1:7862\n",
      "\n",
      "To create a public link, set `share=True` in `launch()`.\n"
     ]
    },
    {
     "data": {
      "text/html": [
       "<div><iframe src=\"http://127.0.0.1:7862/\" width=\"100%\" height=\"500\" allow=\"autoplay; camera; microphone; clipboard-read; clipboard-write;\" frameborder=\"0\" allowfullscreen></iframe></div>"
      ],
      "text/plain": [
       "<IPython.core.display.HTML object>"
      ]
     },
     "metadata": {},
     "output_type": "display_data"
    },
    {
     "data": {
      "text/plain": []
     },
     "execution_count": 6,
     "metadata": {},
     "output_type": "execute_result"
    }
   ],
   "source": [
    "import gradio as gr\n",
    "\n",
    "with gr.Blocks() as demo:\n",
    "    gr.HTML(\"<h1>Chatbot with LangChain's ConversationChain.</h1>\")\n",
    "    \n",
    "    chat_history = gr.Chatbot([\n",
    "        (None, \"Hello! I'm a TV set recommendation assistant. I will help you to find the right TV.\"),\n",
    "    ])\n",
    "    human_input = gr.Textbox(label=\"Human question - hit Enter to submit...\")\n",
    "    gr.HTML(\"<hr>\")\n",
    "    \n",
    "    clear_bt = gr.ClearButton([human_input, chat_history], value=\"Clear chat history\")\n",
    "    clear_bt.click(conversation_chain.memory.clear)\n",
    "\n",
    "    def respond(question, chat_history):\n",
    "        response = conversation_chain(question, callbacks=[totals_cb])['response']\n",
    "        chat_history.append((question, response))\n",
    "        return \"\", chat_history\n",
    "\n",
    "    # react to Enter key in human_input\n",
    "    human_input.submit(respond, [human_input, chat_history], [human_input, chat_history])\n",
    "\n",
    "demo.launch()"
   ]
  },
  {
   "cell_type": "code",
   "execution_count": null,
   "id": "eb3b3bbc",
   "metadata": {},
   "outputs": [],
   "source": [
    "print(totals_cb)"
   ]
  }
 ],
 "metadata": {
  "kernelspec": {
   "display_name": "Python 3 (ipykernel)",
   "language": "python",
   "name": "python3"
  },
  "language_info": {
   "codemirror_mode": {
    "name": "ipython",
    "version": 3
   },
   "file_extension": ".py",
   "mimetype": "text/x-python",
   "name": "python",
   "nbconvert_exporter": "python",
   "pygments_lexer": "ipython3",
   "version": "3.11.3"
  }
 },
 "nbformat": 4,
 "nbformat_minor": 5
}
