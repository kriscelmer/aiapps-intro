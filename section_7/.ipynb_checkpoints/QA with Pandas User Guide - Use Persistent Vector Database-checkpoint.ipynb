{
 "cells": [
  {
   "cell_type": "markdown",
   "id": "2918a1d6",
   "metadata": {},
   "source": [
    "# QA with Pandas User Guide - Use Persistent Vector Database"
   ]
  },
  {
   "cell_type": "markdown",
   "id": "9e3e8e48",
   "metadata": {},
   "source": [
    "This notebook assumes a Chroma DB with *Pandas User Guide* persisted in `./chroma_db/pandas` folder.\n",
    "\n",
    "See notebook `QA with Pandas User Guide - Build Persistent Vector Database`."
   ]
  },
  {
   "cell_type": "code",
   "execution_count": null,
   "id": "a177979d",
   "metadata": {},
   "outputs": [],
   "source": [
    "import os\n",
    "import openai\n",
    "from IPython.display import display, HTML, Markdown\n",
    "from pprint import pprint\n",
    "\n",
    "from dotenv import load_dotenv, find_dotenv\n",
    "_ = load_dotenv(find_dotenv()) # read local .env file\n",
    "openai.api_key = os.environ['OPENAI_API_KEY']"
   ]
  },
  {
   "cell_type": "code",
   "execution_count": null,
   "id": "2f816c0f",
   "metadata": {},
   "outputs": [],
   "source": [
    "from langchain.callbacks import OpenAICallbackHandler\n",
    "\n",
    "totals_cb = OpenAICallbackHandler()\n",
    "\n",
    "print(totals_cb)"
   ]
  },
  {
   "cell_type": "code",
   "execution_count": null,
   "id": "c08fdd7f",
   "metadata": {},
   "outputs": [],
   "source": [
    "from langchain.embeddings import HuggingFaceEmbeddings\n",
    "from langchain.vectorstores import Chroma\n",
    "\n",
    "embeddings = HuggingFaceEmbeddings(model_name=\"multi-qa-MiniLM-L6-cos-v1\")\n",
    "\n",
    "db = Chroma(\n",
    "    embedding_function=embeddings,\n",
    "    persist_directory=\"./chroma_db/pandas\"\n",
    ")"
   ]
  },
  {
   "cell_type": "code",
   "execution_count": null,
   "id": "4a51e6ea-673e-4988-abcf-857a81d9a6df",
   "metadata": {},
   "outputs": [],
   "source": [
    "from langchain.memory import ConversationSummaryBufferMemory\n",
    "from langchain.chat_models import ChatOpenAI\n",
    "\n",
    "memory = ConversationSummaryBufferMemory(\n",
    "    llm=ChatOpenAI(temperature=0.0),\n",
    "    k=2,\n",
    "    memory_key=\"chat_history\", \n",
    "    return_messages=True)"
   ]
  },
  {
   "cell_type": "code",
   "execution_count": null,
   "id": "507be9fe",
   "metadata": {},
   "outputs": [],
   "source": [
    "from langchain.chains import ConversationalRetrievalChain\n",
    "\n",
    "\n",
    "llm = ChatOpenAI(temperature=0.0)\n",
    "\n",
    "qa_chain = ConversationalRetrievalChain.from_llm(\n",
    "    llm,\n",
    "    retriever=db.as_retriever(search_kwargs={\"k\": 3}),\n",
    "    memory=memory\n",
    ")"
   ]
  },
  {
   "cell_type": "code",
   "execution_count": null,
   "id": "33927403",
   "metadata": {},
   "outputs": [],
   "source": [
    "question = \"How to read CSV file into dataframe?\"\n",
    "\n",
    "result = qa_chain(question, callbacks=[totals_cb])\n",
    "\n",
    "display(Markdown(result['answer']))"
   ]
  },
  {
   "cell_type": "code",
   "execution_count": null,
   "id": "a4435d82",
   "metadata": {},
   "outputs": [],
   "source": [
    "question = \"Give me an example of code plotting an unstacked area plot of a dataframe with alpha blending\"\n",
    "\n",
    "result = qa_chain(question, callbacks=[totals_cb])\n",
    "\n",
    "display(Markdown(result[\"answer\"]))"
   ]
  },
  {
   "cell_type": "code",
   "execution_count": null,
   "id": "ae6ef620-04a6-4f40-8e2d-7239c14d8b50",
   "metadata": {},
   "outputs": [],
   "source": [
    "import pandas as pd\n",
    "import numpy as np\n",
    "\n",
    "# Create a DataFrame\n",
    "df = pd.DataFrame(np.random.rand(10, 4), columns=['a', 'b', 'c', 'd'])\n",
    "\n",
    "# Plot the unstacked area plot with alpha blending\n",
    "df.plot.area(stacked=False, alpha=0.5)"
   ]
  },
  {
   "cell_type": "code",
   "execution_count": null,
   "id": "e2747e0e-ffbb-48e4-8905-7f6ad2cb4dec",
   "metadata": {},
   "outputs": [],
   "source": [
    "question = \"How to change the code above to use bar chart instead?\"\n",
    "\n",
    "result = qa_chain(question, callbacks=[totals_cb])\n",
    "\n",
    "display(Markdown(result[\"answer\"]))"
   ]
  },
  {
   "cell_type": "code",
   "execution_count": null,
   "id": "4b9ce140",
   "metadata": {},
   "outputs": [],
   "source": [
    "question = \"How to deal with missing data in a dataframe?\"\n",
    "\n",
    "result = qa_chain(question, callbacks=[totals_cb])\n",
    "\n",
    "display(Markdown(result[\"answer\"]))"
   ]
  },
  {
   "cell_type": "code",
   "execution_count": null,
   "id": "513cf06a",
   "metadata": {},
   "outputs": [],
   "source": [
    "question = \"Give me an example of using PyArrow to improve speed of operations in a dataframe\"\n",
    "\n",
    "result = qa_chain(question, callbacks=[totals_cb])\n",
    "\n",
    "display(Markdown(result[\"answer\"]))"
   ]
  },
  {
   "cell_type": "code",
   "execution_count": null,
   "id": "893ee38d",
   "metadata": {},
   "outputs": [],
   "source": [
    "print(totals_cb)"
   ]
  },
  {
   "cell_type": "code",
   "execution_count": null,
   "id": "2f1c2cc2",
   "metadata": {
    "jupyter": {
     "source_hidden": true
    }
   },
   "outputs": [],
   "source": []
  }
 ],
 "metadata": {
  "kernelspec": {
   "display_name": "Python 3 (ipykernel)",
   "language": "python",
   "name": "python3"
  },
  "language_info": {
   "codemirror_mode": {
    "name": "ipython",
    "version": 3
   },
   "file_extension": ".py",
   "mimetype": "text/x-python",
   "name": "python",
   "nbconvert_exporter": "python",
   "pygments_lexer": "ipython3",
   "version": "3.11.4"
  }
 },
 "nbformat": 4,
 "nbformat_minor": 5
}
