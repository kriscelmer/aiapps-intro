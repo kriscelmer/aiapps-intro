{
 "cells": [
  {
   "cell_type": "markdown",
   "id": "747b399c",
   "metadata": {},
   "source": [
    "# QA with Pandas User Guide - Build Persistent Vector Database"
   ]
  },
  {
   "cell_type": "code",
   "execution_count": null,
   "id": "be2e12aa",
   "metadata": {},
   "outputs": [],
   "source": [
    "import os\n",
    "import openai\n",
    "from IPython.display import display, HTML, Markdown\n",
    "from pprint import pprint\n",
    "\n",
    "from dotenv import load_dotenv, find_dotenv\n",
    "_ = load_dotenv(find_dotenv()) # read local .env file\n",
    "openai.api_key = os.environ['OPENAI_API_KEY']"
   ]
  },
  {
   "cell_type": "code",
   "execution_count": null,
   "id": "bae77d7c",
   "metadata": {},
   "outputs": [],
   "source": [
    "from langchain.callbacks import OpenAICallbackHandler\n",
    "\n",
    "totals_cb = OpenAICallbackHandler()\n",
    "\n",
    "print(totals_cb)"
   ]
  },
  {
   "cell_type": "code",
   "execution_count": null,
   "id": "40e5a0e1-1314-46e1-8ca6-6e8c67e95d78",
   "metadata": {},
   "outputs": [],
   "source": [
    "!rm -f ./pandas.zip\n",
    "!rm -rf ./pandas_docs"
   ]
  },
  {
   "cell_type": "code",
   "execution_count": null,
   "id": "23088687",
   "metadata": {},
   "outputs": [],
   "source": [
    "import wget\n",
    "\n",
    "url='https://pandas.pydata.org/docs/pandas.zip'\n",
    "\n",
    "wget.download(url)\n",
    "\n",
    "from zipfile import ZipFile\n",
    "\n",
    "with ZipFile(\"pandas.zip\", 'r') as zObject:\n",
    "    zObject.extractall(\"pandas_docs\")"
   ]
  },
  {
   "cell_type": "code",
   "execution_count": null,
   "id": "2f9962c1",
   "metadata": {},
   "outputs": [],
   "source": [
    "from langchain.document_loaders import DirectoryLoader\n",
    "\n",
    "loader = DirectoryLoader('pandas_docs/user_guide', glob=\"**/*.html\", show_progress=True)\n",
    "\n",
    "docs = loader.load()\n",
    "\n",
    "print(f\"Loaded {len(docs)} docs\")"
   ]
  },
  {
   "cell_type": "code",
   "execution_count": null,
   "id": "b110e265",
   "metadata": {},
   "outputs": [],
   "source": [
    "from langchain.text_splitter import TokenTextSplitter\n",
    "\n",
    "token_splitter = TokenTextSplitter(chunk_size=1000, chunk_overlap=50)\n",
    "\n",
    "chunks = token_splitter.split_documents(docs)\n",
    "\n",
    "print(f\"Documents split into {len(chunks)} chunks\\n\")"
   ]
  },
  {
   "cell_type": "code",
   "execution_count": null,
   "id": "82c84702-d9b0-4694-bb49-45b4efd92aee",
   "metadata": {},
   "outputs": [],
   "source": [
    "!rm -rf ./chroma_db/pandas"
   ]
  },
  {
   "cell_type": "code",
   "execution_count": null,
   "id": "801c0463",
   "metadata": {},
   "outputs": [],
   "source": [
    "from langchain.embeddings import HuggingFaceEmbeddings\n",
    "from langchain.vectorstores import Chroma\n",
    "\n",
    "embeddings = HuggingFaceEmbeddings(model_name=\"multi-qa-MiniLM-L6-cos-v1\")\n",
    "\n",
    "db = Chroma.from_documents(\n",
    "    chunks, \n",
    "    embedding=embeddings,\n",
    "    persist_directory=\"./chroma_db/pandas\"\n",
    ")"
   ]
  },
  {
   "cell_type": "code",
   "execution_count": null,
   "id": "1f3b1aec-20af-4a75-8074-cc8d055cb8b4",
   "metadata": {},
   "outputs": [],
   "source": [
    "doc_with_embeddings = db.get(offset=0, limit=1, include=[\"documents\", \"embeddings\"])\n",
    "\n",
    "print(doc_with_embeddings[\"documents\"][0][:200])\n",
    "\n",
    "emb = doc_with_embeddings[\"embeddings\"][0]\n",
    "\n",
    "print(f\"\\nLength of embeddings: {len(emb)}\")\n",
    "pprint(emb[:50])"
   ]
  },
  {
   "cell_type": "code",
   "execution_count": null,
   "id": "216fd37d",
   "metadata": {},
   "outputs": [],
   "source": [
    "db.persist()"
   ]
  },
  {
   "cell_type": "code",
   "execution_count": null,
   "id": "dbf5fcbc",
   "metadata": {
    "jupyter": {
     "source_hidden": true
    }
   },
   "outputs": [],
   "source": []
  }
 ],
 "metadata": {
  "kernelspec": {
   "display_name": "Python 3 (ipykernel)",
   "language": "python",
   "name": "python3"
  },
  "language_info": {
   "codemirror_mode": {
    "name": "ipython",
    "version": 3
   },
   "file_extension": ".py",
   "mimetype": "text/x-python",
   "name": "python",
   "nbconvert_exporter": "python",
   "pygments_lexer": "ipython3",
   "version": "3.11.4"
  }
 },
 "nbformat": 4,
 "nbformat_minor": 5
}
