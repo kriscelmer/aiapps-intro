{
 "cells": [
  {
   "cell_type": "markdown",
   "id": "04d21f7a",
   "metadata": {},
   "source": [
    "# QA with Vector DB - Limitations"
   ]
  },
  {
   "cell_type": "code",
   "execution_count": null,
   "id": "62038cba",
   "metadata": {},
   "outputs": [],
   "source": [
    "import os\n",
    "import openai\n",
    "from IPython.display import display, HTML, Markdown\n",
    "from pprint import pprint\n",
    "\n",
    "from dotenv import load_dotenv, find_dotenv\n",
    "_ = load_dotenv(find_dotenv()) # read local .env file\n",
    "openai.api_key = os.environ['OPENAI_API_KEY']"
   ]
  },
  {
   "cell_type": "code",
   "execution_count": null,
   "id": "69c0bc5f",
   "metadata": {},
   "outputs": [],
   "source": [
    "from langchain.callbacks import OpenAICallbackHandler\n",
    "\n",
    "totals_cb = OpenAICallbackHandler()\n",
    "\n",
    "print(totals_cb)"
   ]
  },
  {
   "cell_type": "code",
   "execution_count": null,
   "id": "f6a081ee",
   "metadata": {},
   "outputs": [],
   "source": [
    "docs = [\n",
    "    \"Daisy is a cow that belongs to Roger.\",\n",
    "    \"Buttercup is a cow belonging to Fernando.\",\n",
    "    \"Roger has a cattle pasture high on the hills.\",\n",
    "    \"Fernando feeds his cattle in the valley.\",\n",
    "    \"Hill pastures yield less nutritious fodder.\",\n",
    "    \"Valley pastures yield more nutritious fodder.\",\n",
    "]"
   ]
  },
  {
   "cell_type": "code",
   "execution_count": null,
   "id": "44fc3fb7-16c7-4444-ace1-8597eeb4f25b",
   "metadata": {},
   "outputs": [],
   "source": [
    "from langchain.prompts import PromptTemplate\n",
    "\n",
    "prompt_string = \"\"\"\n",
    "Answer the question below using information from context.\n",
    "\n",
    "<context>\n",
    "{context}\n",
    "</context>\n",
    "\n",
    "<question>\n",
    "{question}\n",
    "</question>\n",
    "\"\"\"\n",
    "\n",
    "question = \"Which one: Daisy or Buttercup eats more nutritious fodder?\"\n",
    "\n",
    "prompt = PromptTemplate.from_template(prompt_string)\n",
    "\n",
    "full_prompt = prompt.format(\n",
    "    context=\"\\n\".join(docs),\n",
    "    question=question\n",
    ")\n",
    "\n",
    "print(full_prompt)"
   ]
  },
  {
   "cell_type": "code",
   "execution_count": null,
   "id": "81e09ce2-8c12-4d52-b45f-2d9e3f30d250",
   "metadata": {},
   "outputs": [],
   "source": [
    "from langchain.chat_models import ChatOpenAI\n",
    "from langchain.chains import LLMChain\n",
    "from langchain.prompts import ChatPromptTemplate\n",
    "from langchain.callbacks import OpenAICallbackHandler\n",
    "\n",
    "totals_cb = OpenAICallbackHandler()\n",
    "\n",
    "simple_chain = LLMChain(\n",
    "    llm=ChatOpenAI(temperature=0.0),\n",
    "    prompt=ChatPromptTemplate.from_template(\"{prompt}\")\n",
    ")\n",
    "\n",
    "get_response = lambda x: simple_chain(x, callbacks=[totals_cb])['text']\n",
    "\n",
    "print(get_response(full_prompt))"
   ]
  },
  {
   "cell_type": "code",
   "execution_count": null,
   "id": "14374f32",
   "metadata": {},
   "outputs": [],
   "source": [
    "from langchain.embeddings.openai import OpenAIEmbeddings\n",
    "from langchain.vectorstores import Chroma\n",
    "\n",
    "db = Chroma.from_texts(docs, OpenAIEmbeddings())"
   ]
  },
  {
   "cell_type": "code",
   "execution_count": null,
   "id": "989ac99d-aff9-4259-840b-53e8a8e2c296",
   "metadata": {},
   "outputs": [],
   "source": [
    "retriever = db.as_retriever(search_kwargs={\"k\": 3})\n",
    "\n",
    "relevant_docs = retriever.get_relevant_documents(question)\n",
    "\n",
    "pprint(relevant_docs)"
   ]
  },
  {
   "cell_type": "code",
   "execution_count": null,
   "id": "b9244fbc",
   "metadata": {},
   "outputs": [],
   "source": [
    "from langchain.chains import RetrievalQA\n",
    "\n",
    "qa_chain = RetrievalQA.from_chain_type(\n",
    "    llm=ChatOpenAI(temperature=0.0), \n",
    "    chain_type=\"stuff\",\n",
    "    retriever=retriever\n",
    ")"
   ]
  },
  {
   "cell_type": "code",
   "execution_count": null,
   "id": "79661c81",
   "metadata": {},
   "outputs": [],
   "source": [
    "response = qa_chain(question, callbacks=[totals_cb])\n",
    "\n",
    "print(response['result'])"
   ]
  },
  {
   "cell_type": "code",
   "execution_count": null,
   "id": "c04744aa",
   "metadata": {},
   "outputs": [],
   "source": [
    "pprint(totals_cb)"
   ]
  },
  {
   "cell_type": "code",
   "execution_count": null,
   "id": "c6ac3201",
   "metadata": {
    "jupyter": {
     "source_hidden": true
    }
   },
   "outputs": [],
   "source": []
  }
 ],
 "metadata": {
  "kernelspec": {
   "display_name": "Python 3 (ipykernel)",
   "language": "python",
   "name": "python3"
  },
  "language_info": {
   "codemirror_mode": {
    "name": "ipython",
    "version": 3
   },
   "file_extension": ".py",
   "mimetype": "text/x-python",
   "name": "python",
   "nbconvert_exporter": "python",
   "pygments_lexer": "ipython3",
   "version": "3.11.4"
  }
 },
 "nbformat": 4,
 "nbformat_minor": 5
}
