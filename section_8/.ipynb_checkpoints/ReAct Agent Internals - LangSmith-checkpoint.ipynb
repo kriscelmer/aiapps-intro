{
 "cells": [
  {
   "cell_type": "markdown",
   "id": "1e17b26a",
   "metadata": {},
   "source": [
    "# ReAct Agent Internals - LangSmith"
   ]
  },
  {
   "cell_type": "code",
   "execution_count": null,
   "id": "22fd6a5e",
   "metadata": {},
   "outputs": [],
   "source": [
    "import os\n",
    "import openai\n",
    "from IPython.display import display, HTML, Markdown\n",
    "from pprint import pprint\n",
    "\n",
    "from dotenv import load_dotenv, find_dotenv\n",
    "_ = load_dotenv(find_dotenv()) # read local .env file\n",
    "openai.api_key = os.environ['OPENAI_API_KEY']"
   ]
  },
  {
   "cell_type": "code",
   "execution_count": null,
   "id": "97b2a535",
   "metadata": {},
   "outputs": [],
   "source": [
    "from langchain.callbacks import OpenAICallbackHandler\n",
    "\n",
    "totals_cb = OpenAICallbackHandler()\n",
    "\n",
    "print(totals_cb)"
   ]
  },
  {
   "cell_type": "markdown",
   "id": "7a66f64e-a51d-4c80-845d-8a3b4bbd43f0",
   "metadata": {},
   "source": [
    "[LangSmith documentation](https://docs.smith.langchain.com/)"
   ]
  },
  {
   "cell_type": "code",
   "execution_count": null,
   "id": "858b700b",
   "metadata": {},
   "outputs": [],
   "source": [
    "from uuid import uuid4\n",
    "from langchainplus_sdk import LangChainPlusClient\n",
    "\n",
    "unique_id = uuid4().hex[0:8]\n",
    "os.environ[\"LANGCHAIN_TRACING_V2\"] = \"true\"\n",
    "os.environ[\"LANGCHAIN_PROJECT\"] = f\"ReAct Agent - {unique_id}\"\n",
    "\n",
    "client = LangChainPlusClient()\n",
    "\n",
    "print(\"You can click the link below to view the UI\")\n",
    "\n",
    "client"
   ]
  },
  {
   "cell_type": "code",
   "execution_count": null,
   "id": "befda06b-fd1d-481f-8ba5-63c443f8fb25",
   "metadata": {},
   "outputs": [],
   "source": [
    "from langchain.agents import load_tools\n",
    "from langchain.agents import initialize_agent\n",
    "from langchain.agents import AgentType\n",
    "from langchain.chat_models import ChatOpenAI\n",
    "\n",
    "llm = ChatOpenAI(temperature=0)\n",
    "\n",
    "tools = load_tools(\n",
    "    [\n",
    "        \"ddg-search\", # DuckDuckGo Search\n",
    "        \"llm-math\",   # Calculator\n",
    "    ], \n",
    "    llm=llm\n",
    ")\n",
    "\n",
    "agent = initialize_agent(tools, llm, agent=AgentType.ZERO_SHOT_REACT_DESCRIPTION, verbose=True)"
   ]
  },
  {
   "cell_type": "code",
   "execution_count": null,
   "id": "bc16d91d-40ae-45e2-9334-d44c33947f11",
   "metadata": {},
   "outputs": [],
   "source": [
    "from langchain.agents import get_all_tool_names\n",
    "\n",
    "pprint(get_all_tool_names())"
   ]
  },
  {
   "cell_type": "code",
   "execution_count": null,
   "id": "ab77a035-6d4b-4e32-924a-4cca9ff2c3a2",
   "metadata": {},
   "outputs": [],
   "source": [
    "pprint(tools)"
   ]
  },
  {
   "cell_type": "code",
   "execution_count": null,
   "id": "3ffd689a",
   "metadata": {},
   "outputs": [],
   "source": [
    "agent.run(\"When Apollo 11 landed on the Moon?\", callbacks=[totals_cb])"
   ]
  },
  {
   "cell_type": "code",
   "execution_count": null,
   "id": "30542e14-c687-4e8e-828d-c83d2d4685cb",
   "metadata": {},
   "outputs": [],
   "source": [
    "agent.run(\"What is the name of vehicle used by Apollo missions to ride on the Moon?\", callbacks=[totals_cb])"
   ]
  },
  {
   "cell_type": "code",
   "execution_count": null,
   "id": "c2354fe1",
   "metadata": {},
   "outputs": [],
   "source": [
    "agent.run(\"Which university a third person walking on the Moon has graduated?\", callbacks=[totals_cb])"
   ]
  },
  {
   "cell_type": "raw",
   "id": "4f6df0e2-cb21-4c8d-a087-c890a88f3478",
   "metadata": {},
   "source": [
    "pprint(totals_cb)"
   ]
  },
  {
   "cell_type": "code",
   "execution_count": null,
   "id": "c6ec9e15-740b-4f69-aa7a-d8fdea841c6f",
   "metadata": {
    "jupyter": {
     "source_hidden": true
    }
   },
   "outputs": [],
   "source": []
  }
 ],
 "metadata": {
  "kernelspec": {
   "display_name": "Python 3 (ipykernel)",
   "language": "python",
   "name": "python3"
  },
  "language_info": {
   "codemirror_mode": {
    "name": "ipython",
    "version": 3
   },
   "file_extension": ".py",
   "mimetype": "text/x-python",
   "name": "python",
   "nbconvert_exporter": "python",
   "pygments_lexer": "ipython3",
   "version": "3.11.4"
  }
 },
 "nbformat": 4,
 "nbformat_minor": 5
}
