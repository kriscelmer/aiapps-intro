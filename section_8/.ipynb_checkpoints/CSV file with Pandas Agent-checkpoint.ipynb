{
 "cells": [
  {
   "cell_type": "markdown",
   "id": "955510af",
   "metadata": {},
   "source": [
    "# CSV file with Pandas Agent"
   ]
  },
  {
   "cell_type": "code",
   "execution_count": null,
   "id": "24900e10",
   "metadata": {},
   "outputs": [],
   "source": [
    "import os\n",
    "import openai\n",
    "from IPython.display import display, HTML, Markdown\n",
    "from pprint import pprint\n",
    "\n",
    "from dotenv import load_dotenv, find_dotenv\n",
    "_ = load_dotenv(find_dotenv()) # read local .env file\n",
    "openai.api_key = os.environ['OPENAI_API_KEY']"
   ]
  },
  {
   "cell_type": "code",
   "execution_count": null,
   "id": "d18d3c31",
   "metadata": {},
   "outputs": [],
   "source": [
    "from langchain.callbacks import OpenAICallbackHandler\n",
    "\n",
    "totals_cb = OpenAICallbackHandler()\n",
    "\n",
    "print(totals_cb)"
   ]
  },
  {
   "cell_type": "markdown",
   "id": "cdff6dc2",
   "metadata": {},
   "source": [
    "### Download example CSV data set\n",
    "\n",
    "Download `train.csv` file from [Kaggle Spaceship Titanic Competition](https://www.kaggle.com/competitions/spaceship-titanic/data?select=train.csv) into current folder of this notebook.\n",
    "\n",
    "Sign up and sign in to [Kaggle](https://www.kaggle.com) required."
   ]
  },
  {
   "cell_type": "code",
   "execution_count": null,
   "id": "2f48ce7d",
   "metadata": {
    "scrolled": true
   },
   "outputs": [],
   "source": [
    "import pandas as pd\n",
    "\n",
    "df = pd.read_csv(\"train.csv\")\n",
    "\n",
    "df.tail()"
   ]
  },
  {
   "cell_type": "code",
   "execution_count": null,
   "id": "5dada47f",
   "metadata": {},
   "outputs": [],
   "source": [
    "from langchain.memory import ConversationBufferWindowMemory\n",
    "from langchain.chat_models import ChatOpenAI\n",
    "from langchain.prompts import MessagesPlaceholder\n",
    "\n",
    "memory = ConversationBufferWindowMemory(k=3, memory_key=\"chat_history\", return_messages=True)\n",
    "\n",
    "agent_kwargs = {\n",
    "    \"extra_prompt_messages\": [MessagesPlaceholder(variable_name=\"chat_history\")],\n",
    "}"
   ]
  },
  {
   "cell_type": "code",
   "execution_count": null,
   "id": "7259a711",
   "metadata": {},
   "outputs": [],
   "source": [
    "agent_executor_kwargs = {\n",
    "    \"handle_parsing_errors\": True\n",
    "}"
   ]
  },
  {
   "cell_type": "code",
   "execution_count": null,
   "id": "8a0b5666",
   "metadata": {},
   "outputs": [],
   "source": [
    "from langchain.agents import create_pandas_dataframe_agent\n",
    "from langchain.chat_models import ChatOpenAI\n",
    "from langchain.agents.agent_types import AgentType\n",
    "\n",
    "agent = create_pandas_dataframe_agent(\n",
    "    ChatOpenAI(temperature=0, model=\"gpt-3.5-turbo\"),\n",
    "    df,\n",
    "    verbose=True,\n",
    "    agent_type=AgentType.OPENAI_FUNCTIONS,\n",
    "    memory=memory,\n",
    "    agent_executor_kwargs=agent_executor_kwargs,\n",
    ")"
   ]
  },
  {
   "cell_type": "code",
   "execution_count": null,
   "id": "f579aba4",
   "metadata": {},
   "outputs": [],
   "source": [
    "pprint(agent.agent.tools)"
   ]
  },
  {
   "cell_type": "code",
   "execution_count": null,
   "id": "d4a2ef1d",
   "metadata": {},
   "outputs": [],
   "source": [
    "pprint(agent.agent.prompt)"
   ]
  },
  {
   "cell_type": "code",
   "execution_count": null,
   "id": "fc3d9222",
   "metadata": {},
   "outputs": [],
   "source": [
    "display(Markdown(agent.agent.prompt.messages[0].content))"
   ]
  },
  {
   "cell_type": "code",
   "execution_count": null,
   "id": "f9876961",
   "metadata": {},
   "outputs": [],
   "source": [
    "import tiktoken\n",
    "\n",
    "encoding = tiktoken.encoding_for_model(\"gpt-3.5-turbo\")\n",
    "print(len(encoding.encode(agent.agent.prompt.messages[0].content)))"
   ]
  },
  {
   "cell_type": "code",
   "execution_count": null,
   "id": "6d9cd5fb",
   "metadata": {},
   "outputs": [],
   "source": [
    "response = agent.run(\"Describe the dataframe\", callbacks=[totals_cb])\n",
    "\n",
    "display(Markdown(response))"
   ]
  },
  {
   "cell_type": "code",
   "execution_count": null,
   "id": "7e668a89",
   "metadata": {},
   "outputs": [],
   "source": [
    "response = agent.run(\"Analyse missing values\", callbacks=[totals_cb])\n",
    "\n",
    "display(Markdown(response))"
   ]
  },
  {
   "cell_type": "code",
   "execution_count": null,
   "id": "f26949ef",
   "metadata": {},
   "outputs": [],
   "source": [
    "response = agent.run(\"What is the distribution of home planet?\", callbacks=[totals_cb])\n",
    "\n",
    "display(Markdown(response))"
   ]
  },
  {
   "cell_type": "code",
   "execution_count": null,
   "id": "6710fb7b",
   "metadata": {},
   "outputs": [],
   "source": [
    "response = agent.run(\"How many VIP passangers are there from Mars?\", callbacks=[totals_cb])\n",
    "\n",
    "display(Markdown(response))"
   ]
  },
  {
   "cell_type": "code",
   "execution_count": null,
   "id": "a5775d77",
   "metadata": {},
   "outputs": [],
   "source": [
    "response = agent.run(\"Ship deck is encoded as first letter in cabin name. How many decks are there?\", callbacks=[totals_cb])\n",
    "\n",
    "display(Markdown(response))"
   ]
  },
  {
   "cell_type": "code",
   "execution_count": null,
   "id": "ddc9ecf1",
   "metadata": {},
   "outputs": [],
   "source": [
    "response = agent.run(\"On which decks (A, B, C, ...) passangers from Mars have cabins?\", callbacks=[totals_cb])\n",
    "\n",
    "display(Markdown(response))"
   ]
  },
  {
   "cell_type": "code",
   "execution_count": null,
   "id": "6c095b52",
   "metadata": {},
   "outputs": [],
   "source": [
    "response = agent.run(\"Passangers from which planet have spent most at Food Court?\", callbacks=[totals_cb])\n",
    "\n",
    "display(Markdown(response))"
   ]
  },
  {
   "cell_type": "code",
   "execution_count": null,
   "id": "441033d8",
   "metadata": {},
   "outputs": [],
   "source": [
    "response = agent.run(\"Passengers going to which destination spent most at VRDeck?\", callbacks=[totals_cb])\n",
    "\n",
    "display(Markdown(response))"
   ]
  },
  {
   "cell_type": "code",
   "execution_count": null,
   "id": "9aa1ab70",
   "metadata": {},
   "outputs": [],
   "source": [
    "response = agent.run(\"Plot distribution of destination as pie chart\", callbacks=[totals_cb])\n",
    "\n",
    "display(Markdown(response))"
   ]
  },
  {
   "cell_type": "code",
   "execution_count": null,
   "id": "3d4fb3f6",
   "metadata": {},
   "outputs": [],
   "source": [
    "print(totals_cb)"
   ]
  },
  {
   "cell_type": "code",
   "execution_count": null,
   "id": "09c77a0e",
   "metadata": {
    "jupyter": {
     "source_hidden": true
    }
   },
   "outputs": [],
   "source": []
  }
 ],
 "metadata": {
  "kernelspec": {
   "display_name": "Python 3 (ipykernel)",
   "language": "python",
   "name": "python3"
  },
  "language_info": {
   "codemirror_mode": {
    "name": "ipython",
    "version": 3
   },
   "file_extension": ".py",
   "mimetype": "text/x-python",
   "name": "python",
   "nbconvert_exporter": "python",
   "pygments_lexer": "ipython3",
   "version": "3.11.4"
  }
 },
 "nbformat": 4,
 "nbformat_minor": 5
}
