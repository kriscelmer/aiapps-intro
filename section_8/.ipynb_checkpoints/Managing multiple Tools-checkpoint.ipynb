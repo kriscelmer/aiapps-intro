{
 "cells": [
  {
   "cell_type": "markdown",
   "id": "5c428fb6-87b4-4c22-9f87-e49437bb2bfc",
   "metadata": {},
   "source": [
    "# Managing Multiple Tools"
   ]
  },
  {
   "cell_type": "code",
   "execution_count": null,
   "id": "de4c5cb9-324c-477e-9a37-19bfab18634f",
   "metadata": {},
   "outputs": [],
   "source": [
    "import os\n",
    "import openai\n",
    "from IPython.display import display, HTML, Markdown\n",
    "from pprint import pprint\n",
    "\n",
    "from dotenv import load_dotenv, find_dotenv\n",
    "_ = load_dotenv(find_dotenv()) # read local .env file\n",
    "openai.api_key = os.environ['OPENAI_API_KEY']"
   ]
  },
  {
   "cell_type": "code",
   "execution_count": null,
   "id": "70f204f3-3b03-4d21-932a-0875e0b42d0e",
   "metadata": {},
   "outputs": [],
   "source": [
    "from langchain.callbacks import OpenAICallbackHandler\n",
    "\n",
    "totals_cb = OpenAICallbackHandler()\n",
    "\n",
    "print(totals_cb)"
   ]
  },
  {
   "cell_type": "code",
   "execution_count": null,
   "id": "a5e666b3-c80f-4625-846f-80314a03abe5",
   "metadata": {},
   "outputs": [],
   "source": [
    "from langchain.agents import tool\n",
    "from typing import List\n",
    "\n",
    "@tool\n",
    "def sum_list_of_numbers(n: List[float]) -> float:\n",
    "    \"\"\"Calculates the sum of a list of numbers\"\"\"\n",
    "    return sum(n)\n",
    "\n",
    "pprint(sum_list_of_numbers)"
   ]
  },
  {
   "cell_type": "code",
   "execution_count": null,
   "id": "ec4737a0-f15b-49c0-b4d3-426cb4ac8f38",
   "metadata": {},
   "outputs": [],
   "source": [
    "bing_subscription_key = os.environ['BING_SUBSCRIPTION_KEY']\n",
    "os.environ[\"BING_SEARCH_URL\"] = \"https://api.bing.microsoft.com/v7.0/search\""
   ]
  },
  {
   "cell_type": "code",
   "execution_count": null,
   "id": "4eccae8a-c1a7-45b5-bed5-169b8309895d",
   "metadata": {},
   "outputs": [],
   "source": [
    "from langchain.agents import load_tools\n",
    "from langchain.chat_models import ChatOpenAI\n",
    "\n",
    "llm = ChatOpenAI(temperature=0)\n",
    "\n",
    "tools = load_tools(\n",
    "    [\n",
    "        \"bing-search\", # Bing Search\n",
    "        \"ddg-search\", # DuckDuckGo Search\n",
    "        \"wikipedia\", # Wikipedia\n",
    "        \"llm-math\",   # Calculator\n",
    "    ], \n",
    "    llm=llm\n",
    ")\n",
    "tools += [sum_list_of_numbers]"
   ]
  },
  {
   "cell_type": "code",
   "execution_count": null,
   "id": "53d3a495-b22d-4249-90ef-a4cc2f88af59",
   "metadata": {},
   "outputs": [],
   "source": [
    "for i, tool in enumerate(tools):\n",
    "    print(f\"tools[{i}]: {tool.name} - {tool.description}\")"
   ]
  },
  {
   "cell_type": "code",
   "execution_count": null,
   "id": "2b30bf5c-6e59-4f23-b613-7ab6b41feb44",
   "metadata": {},
   "outputs": [],
   "source": [
    "tools[3].description = \"Use this tool for any calculations\"\n",
    "for i, tool in enumerate(tools):\n",
    "    print(f\"tools[{i}]: {tool.name} - {tool.description}\")"
   ]
  },
  {
   "cell_type": "code",
   "execution_count": null,
   "id": "1a59ea3c-6d8e-41c3-b611-68101617de34",
   "metadata": {},
   "outputs": [],
   "source": [
    "from langchain.agents import initialize_agent\n",
    "from langchain.agents import AgentType\n",
    "\n",
    "agent = initialize_agent(tools, llm, agent=AgentType.OPENAI_FUNCTIONS, verbose=True)"
   ]
  },
  {
   "cell_type": "code",
   "execution_count": null,
   "id": "28d85296-e61b-4c9b-b66a-4c64b21fa07e",
   "metadata": {},
   "outputs": [],
   "source": [
    "agent.run(\"What is the sum of 1.0, 2.0 and 7.0?\", callbacks=[totals_cb])"
   ]
  },
  {
   "cell_type": "code",
   "execution_count": null,
   "id": "a1639923-63b1-4efa-b9c1-77e9a85c2d51",
   "metadata": {},
   "outputs": [],
   "source": [
    "agent.run(\"Calculate the 1.0 + 2.0 + 7.0\", callbacks=[totals_cb])"
   ]
  },
  {
   "cell_type": "code",
   "execution_count": null,
   "id": "c87800b6-9b39-40d0-8f48-9e6e59b114f3",
   "metadata": {},
   "outputs": [],
   "source": [
    "agent.run(\"Tell me the weather in London today\", callbacks=[totals_cb])"
   ]
  },
  {
   "cell_type": "code",
   "execution_count": null,
   "id": "43a8369a-4bd9-4483-839e-9eea5cbc0fef",
   "metadata": {},
   "outputs": [],
   "source": [
    "agent.run(\"Tell me the weather in London today, use Bing\", callbacks=[totals_cb])"
   ]
  },
  {
   "cell_type": "code",
   "execution_count": null,
   "id": "d74906a1-f314-4bf0-9f7b-53adb914c854",
   "metadata": {},
   "outputs": [],
   "source": [
    "agent.run(\"Search the web to find out which university a third person walking on the Moon has graduated?\", callbacks=[totals_cb])"
   ]
  },
  {
   "cell_type": "code",
   "execution_count": null,
   "id": "e71fae2e-75ff-499f-865d-9c0fd0474fa6",
   "metadata": {},
   "outputs": [],
   "source": [
    "print(totals_cb)"
   ]
  },
  {
   "cell_type": "raw",
   "id": "34e7499d-bd82-4a6d-b9dc-0c2ab7c9d3f3",
   "metadata": {},
   "source": []
  }
 ],
 "metadata": {
  "kernelspec": {
   "display_name": "Python 3 (ipykernel)",
   "language": "python",
   "name": "python3"
  },
  "language_info": {
   "codemirror_mode": {
    "name": "ipython",
    "version": 3
   },
   "file_extension": ".py",
   "mimetype": "text/x-python",
   "name": "python",
   "nbconvert_exporter": "python",
   "pygments_lexer": "ipython3",
   "version": "3.11.4"
  }
 },
 "nbformat": 4,
 "nbformat_minor": 5
}
