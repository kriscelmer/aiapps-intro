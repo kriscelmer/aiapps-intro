{
 "cells": [
  {
   "cell_type": "markdown",
   "id": "2f672855",
   "metadata": {},
   "source": [
    "# Agent with Vector DB"
   ]
  },
  {
   "cell_type": "code",
   "execution_count": null,
   "id": "7eaeec24",
   "metadata": {},
   "outputs": [],
   "source": [
    "import os\n",
    "import openai\n",
    "from IPython.display import display, HTML, Markdown\n",
    "from pprint import pprint\n",
    "\n",
    "from dotenv import load_dotenv, find_dotenv\n",
    "_ = load_dotenv(find_dotenv()) # read local .env file\n",
    "openai.api_key = os.environ['OPENAI_API_KEY']"
   ]
  },
  {
   "cell_type": "code",
   "execution_count": null,
   "id": "48e90f7e",
   "metadata": {},
   "outputs": [],
   "source": [
    "from langchain.callbacks import OpenAICallbackHandler\n",
    "\n",
    "totals_cb = OpenAICallbackHandler()\n",
    "\n",
    "print(totals_cb)"
   ]
  },
  {
   "cell_type": "markdown",
   "id": "94c7ba4f",
   "metadata": {},
   "source": [
    "# Chroma DB with PDF file\n",
    "\n",
    "[Challenges and Applications of Large Language Models](https://arxiv.org/pdf/2307.10169.pdf) - 72 pages"
   ]
  },
  {
   "cell_type": "code",
   "execution_count": null,
   "id": "b33f212c",
   "metadata": {},
   "outputs": [],
   "source": [
    "from langchain.document_loaders import PyPDFLoader\n",
    "from langchain.embeddings.openai import OpenAIEmbeddings\n",
    "from langchain.vectorstores import Chroma\n",
    "\n",
    "loader = PyPDFLoader(\"https://arxiv.org/pdf/2307.10169.pdf\")\n",
    "\n",
    "docs = loader.load()\n",
    "\n",
    "db = Chroma.from_documents(docs, OpenAIEmbeddings())"
   ]
  },
  {
   "cell_type": "code",
   "execution_count": null,
   "id": "c048abc6",
   "metadata": {},
   "outputs": [],
   "source": [
    "from langchain.agents.agent_toolkits import create_retriever_tool\n",
    "\n",
    "retriever = db.as_retriever(search_kwargs={\"k\": 2})\n",
    "\n",
    "pdf_qa = create_retriever_tool(\n",
    "    retriever, \n",
    "    \"research_paper\",\n",
    "    \"Useful to answer questions about a research paper. Input should be a fully formed question.\"\n",
    ")"
   ]
  },
  {
   "cell_type": "code",
   "execution_count": null,
   "id": "31baf420",
   "metadata": {},
   "outputs": [],
   "source": [
    "from langchain.agents import Tool\n",
    "from langchain.chat_models import ChatOpenAI\n",
    "from langchain.tools import WikipediaQueryRun\n",
    "from langchain.utilities import WikipediaAPIWrapper\n",
    "from langchain.agents.agent_toolkits import create_conversational_retrieval_agent\n",
    "\n",
    "wikipedia = WikipediaQueryRun(api_wrapper=WikipediaAPIWrapper())\n",
    "\n",
    "llm = ChatOpenAI(temperature=0.0)\n",
    "        \n",
    "tools = [\n",
    "    pdf_qa,\n",
    "    wikipedia\n",
    "]\n",
    "\n",
    "agent = create_conversational_retrieval_agent(\n",
    "    llm, \n",
    "    tools, \n",
    "    verbose=True\n",
    ")"
   ]
  },
  {
   "cell_type": "code",
   "execution_count": null,
   "id": "bfd8e0ec",
   "metadata": {},
   "outputs": [],
   "source": [
    "response = agent(\"What are the most promissing applications of LLMs according to the paper?\", callbacks=[totals_cb])\n",
    "\n",
    "display(Markdown(response['output']))"
   ]
  },
  {
   "cell_type": "code",
   "execution_count": null,
   "id": "b07a7f4c",
   "metadata": {},
   "outputs": [],
   "source": [
    "response = agent(\"Tell me more about what paper says about application of LLMs in reasoning?\", callbacks=[totals_cb])\n",
    "\n",
    "display(Markdown(response['output']))"
   ]
  },
  {
   "cell_type": "code",
   "execution_count": null,
   "id": "f0cfc2fd",
   "metadata": {},
   "outputs": [],
   "source": [
    "question = \"\"\"\n",
    "What Wikipedia says about application of LLMs in reasoning?\n",
    "\"\"\"\n",
    "\n",
    "response = agent(question, callbacks=[totals_cb])\n",
    "\n",
    "display(Markdown(response['output']))"
   ]
  },
  {
   "cell_type": "code",
   "execution_count": null,
   "id": "82af9d99",
   "metadata": {},
   "outputs": [],
   "source": [
    "question = \"\"\"\n",
    "Compare paper and Wikipedia positions on application of LLMs in mathematical reasoning?\n",
    "\"\"\"\n",
    "\n",
    "response = agent(question, callbacks=[totals_cb])\n",
    "\n",
    "display(Markdown(response['output']))"
   ]
  },
  {
   "cell_type": "code",
   "execution_count": null,
   "id": "da138cff",
   "metadata": {},
   "outputs": [],
   "source": [
    "print(totals_cb)"
   ]
  },
  {
   "cell_type": "code",
   "execution_count": null,
   "id": "e64f6ff5",
   "metadata": {
    "jupyter": {
     "source_hidden": true
    }
   },
   "outputs": [],
   "source": []
  }
 ],
 "metadata": {
  "kernelspec": {
   "display_name": "Python 3 (ipykernel)",
   "language": "python",
   "name": "python3"
  },
  "language_info": {
   "codemirror_mode": {
    "name": "ipython",
    "version": 3
   },
   "file_extension": ".py",
   "mimetype": "text/x-python",
   "name": "python",
   "nbconvert_exporter": "python",
   "pygments_lexer": "ipython3",
   "version": "3.11.4"
  }
 },
 "nbformat": 4,
 "nbformat_minor": 5
}
