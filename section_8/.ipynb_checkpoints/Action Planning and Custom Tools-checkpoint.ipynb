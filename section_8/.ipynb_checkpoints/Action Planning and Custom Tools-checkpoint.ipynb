{
 "cells": [
  {
   "cell_type": "markdown",
   "id": "6a6f5182",
   "metadata": {},
   "source": [
    "# Action Planning and Custom Tools"
   ]
  },
  {
   "cell_type": "code",
   "execution_count": null,
   "id": "02dad9f6",
   "metadata": {},
   "outputs": [],
   "source": [
    "import os\n",
    "import openai\n",
    "from IPython.display import display, HTML, Markdown\n",
    "from pprint import pprint\n",
    "\n",
    "from dotenv import load_dotenv, find_dotenv\n",
    "_ = load_dotenv(find_dotenv()) # read local .env file\n",
    "openai.api_key = os.environ['OPENAI_API_KEY']"
   ]
  },
  {
   "cell_type": "code",
   "execution_count": null,
   "id": "09254463",
   "metadata": {},
   "outputs": [],
   "source": [
    "from langchain.callbacks import OpenAICallbackHandler\n",
    "\n",
    "totals_cb = OpenAICallbackHandler()\n",
    "\n",
    "print(totals_cb)"
   ]
  },
  {
   "cell_type": "code",
   "execution_count": null,
   "id": "0b16b7c4",
   "metadata": {},
   "outputs": [],
   "source": [
    "from uuid import uuid4\n",
    "from langchainplus_sdk import LangChainPlusClient\n",
    "\n",
    "unique_id = uuid4().hex[0:8]\n",
    "os.environ[\"LANGCHAIN_TRACING_V2\"] = \"true\"\n",
    "os.environ[\"LANGCHAIN_PROJECT\"] = f\"Action Planning and Custom Tools - {unique_id}\"\n",
    "\n",
    "client = LangChainPlusClient()\n",
    "\n",
    "print(\"You can click the link below to view the UI\")\n",
    "\n",
    "client"
   ]
  },
  {
   "cell_type": "code",
   "execution_count": null,
   "id": "6e8e7aba",
   "metadata": {},
   "outputs": [],
   "source": [
    "from langchain.agents import tool\n",
    "from typing import List\n",
    "\n",
    "top_billing_customers_names = [\"ACME\", \"BillyCorp\", \"CheetahSpeed\", \"DeltaTeam\", \"EchoConstruction\"]\n",
    "billing = {\n",
    "    'ACME': 500.0, \n",
    "    'BillyCorp': 400.0, \n",
    "    'CheetahSpeed': 300.0, \n",
    "    'DeltaTeam': 200.0, \n",
    "    'EchoConstruction': 100.0\n",
    "}\n",
    "crm_requirements = {\n",
    "    'ACME': ['reliability' , 'performance'],\n",
    "    'BillyCorp': ['performance', 'flexibility', 'lower cost'],\n",
    "    'CheetahSpeed': ['performance', 'lower cost'],\n",
    "    'DeltaTeam': ['flexibility', 'lower cost'],\n",
    "    'EchoConstruction': ['lower cost'],\n",
    "}\n",
    "new_product_specs = {\n",
    "    'AIChat': ['flexibility', 'lower cost'],\n",
    "    'AIRobot': ['flexibility', 'reliability'],\n",
    "    'AIPlanner': ['reliability', 'performance']\n",
    "}\n",
    "new_product_names = list(new_product_specs.keys())\n",
    "\n",
    "@tool\n",
    "def top_billing_customers(n: int) -> List[str]:\n",
    "    \"\"\"Returns a list of names of top n paying customers, n must be >= 1 and <=5.\"\"\"\n",
    "    if n < 1:\n",
    "        n = 1\n",
    "    if n > 5:\n",
    "        n = 5\n",
    "    return top_billing_customers_names[:n]\n",
    "\n",
    "@tool\n",
    "def get_customer_billing(name: str) -> float:\n",
    "    \"\"\"Returns billing amount for customer specified by name\"\"\"\n",
    "    return billing[name]\n",
    "\n",
    "@tool\n",
    "def customer_requirements(name: str) -> List[str]:\n",
    "    \"\"\"Returns a list of future product requirements for customer specified by name\"\"\"\n",
    "    return crm_requirements[name]\n",
    "\n",
    "@tool\n",
    "def product_names() -> List[str]:\n",
    "    \"\"\"Returns a list of new product names\"\"\"\n",
    "    return new_product_names\n",
    "\n",
    "@tool\n",
    "def product_specification(name: str) -> List[str]:\n",
    "    \"\"\"Returns a list of features for a new product specified by name\"\"\"\n",
    "    return new_product_specs[name]"
   ]
  },
  {
   "cell_type": "code",
   "execution_count": null,
   "id": "c3a917ac",
   "metadata": {},
   "outputs": [],
   "source": [
    "print(product_specification.func('AIPlanner'))"
   ]
  },
  {
   "cell_type": "code",
   "execution_count": null,
   "id": "27e758b1",
   "metadata": {},
   "outputs": [],
   "source": [
    "from langchain.schema import SystemMessage\n",
    "\n",
    "agent_kwargs = {\n",
    "    \"system_message\": SystemMessage(\n",
    "        content=\"Act as an action planned using provided tools. Think about a detailed action plan to answer the question below using available tools if necessary.\"\n",
    "    ),\n",
    "}"
   ]
  },
  {
   "cell_type": "code",
   "execution_count": null,
   "id": "5506ff85",
   "metadata": {},
   "outputs": [],
   "source": [
    "from langchain.chat_models import ChatOpenAI\n",
    "from langchain.agents import initialize_agent, Tool\n",
    "from langchain.agents import AgentType\n",
    "\n",
    "llm = ChatOpenAI(temperature=0.0) \n",
    "\n",
    "tools = [\n",
    "    top_billing_customers,\n",
    "    get_customer_billing,\n",
    "    customer_requirements,\n",
    "    product_names,\n",
    "    product_specification\n",
    "]\n",
    "\n",
    "agent = initialize_agent(\n",
    "    tools, \n",
    "    llm, \n",
    "    agent=AgentType.OPENAI_FUNCTIONS, \n",
    "    agent_kwargs=agent_kwargs,\n",
    "    verbose=True\n",
    ")"
   ]
  },
  {
   "cell_type": "code",
   "execution_count": null,
   "id": "3d2caea5",
   "metadata": {},
   "outputs": [],
   "source": [
    "response = agent.run(\"Which new product we should focus first on to address business needs of our top 3 paying customers?\", callbacks=[totals_cb])\n",
    "\n",
    "display(Markdown(response))"
   ]
  },
  {
   "cell_type": "code",
   "execution_count": null,
   "id": "d7ec8bbe",
   "metadata": {},
   "outputs": [],
   "source": [
    "print(totals_cb)"
   ]
  },
  {
   "cell_type": "code",
   "execution_count": null,
   "id": "e806b34b",
   "metadata": {
    "jupyter": {
     "source_hidden": true
    }
   },
   "outputs": [],
   "source": []
  }
 ],
 "metadata": {
  "kernelspec": {
   "display_name": "Python 3 (ipykernel)",
   "language": "python",
   "name": "python3"
  },
  "language_info": {
   "codemirror_mode": {
    "name": "ipython",
    "version": 3
   },
   "file_extension": ".py",
   "mimetype": "text/x-python",
   "name": "python",
   "nbconvert_exporter": "python",
   "pygments_lexer": "ipython3",
   "version": "3.11.4"
  }
 },
 "nbformat": 4,
 "nbformat_minor": 5
}
