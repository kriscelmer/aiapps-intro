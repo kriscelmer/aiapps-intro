{
 "cells": [
  {
   "cell_type": "markdown",
   "id": "fc452b83",
   "metadata": {},
   "source": [
    "# Web search with Bing"
   ]
  },
  {
   "cell_type": "code",
   "execution_count": null,
   "id": "3ee85267",
   "metadata": {},
   "outputs": [],
   "source": [
    "import os\n",
    "import openai\n",
    "from IPython.display import display, HTML, Markdown\n",
    "from pprint import pprint\n",
    "\n",
    "from dotenv import load_dotenv, find_dotenv\n",
    "_ = load_dotenv(find_dotenv()) # read local .env file\n",
    "openai.api_key = os.environ['OPENAI_API_KEY']"
   ]
  },
  {
   "cell_type": "code",
   "execution_count": null,
   "id": "cdf47f27",
   "metadata": {},
   "outputs": [],
   "source": [
    "from langchain.callbacks import OpenAICallbackHandler\n",
    "\n",
    "totals_cb = OpenAICallbackHandler()\n",
    "\n",
    "print(totals_cb)"
   ]
  },
  {
   "cell_type": "markdown",
   "id": "c53728e7",
   "metadata": {},
   "source": [
    "### Set-up Bing Search API account\n",
    "\n",
    "Go to https://www.microsoft.com/en-us/bing/apis/bing-web-search-api, press Try Now and follow instructions... Select Free Tier for education and proof of concept use cases.\n",
    "\n",
    "Get API Key (Key 1) and put it into an Environment Variable, possibly in `~/.env` file.\n",
    "\n",
    "Check the [Bing Search API Pricing](https://www.microsoft.com/en-us/bing/apis/pricing)"
   ]
  },
  {
   "cell_type": "code",
   "execution_count": null,
   "id": "e9366a1a",
   "metadata": {},
   "outputs": [],
   "source": [
    "bing_subscription_key = os.environ['BING_SUBSCRIPTION_KEY']"
   ]
  },
  {
   "cell_type": "code",
   "execution_count": null,
   "id": "5d775aee",
   "metadata": {},
   "outputs": [],
   "source": [
    "from langchain.utilities import BingSearchAPIWrapper\n",
    "\n",
    "bing_search = BingSearchAPIWrapper(\n",
    "    bing_subscription_key = bing_subscription_key,\n",
    "    bing_search_url = \"https://api.bing.microsoft.com/v7.0/search\",\n",
    ")"
   ]
  },
  {
   "cell_type": "code",
   "execution_count": null,
   "id": "4ad88d24",
   "metadata": {},
   "outputs": [],
   "source": [
    "bing_search.run(\"LangChain BingSearchAPIWrapper\")"
   ]
  },
  {
   "cell_type": "code",
   "execution_count": null,
   "id": "3b003aed",
   "metadata": {},
   "outputs": [],
   "source": [
    "from langchain.memory import ConversationBufferMemory\n",
    "from langchain.chat_models import ChatOpenAI\n",
    "from langchain.prompts import MessagesPlaceholder\n",
    "\n",
    "memory = ConversationBufferMemory(memory_key=\"chat_history\", return_messages=True)\n",
    "\n",
    "agent_kwargs = {\n",
    "    \"extra_prompt_messages\": [MessagesPlaceholder(variable_name=\"chat_history\")],\n",
    "}"
   ]
  },
  {
   "cell_type": "code",
   "execution_count": null,
   "id": "0555eaf3",
   "metadata": {},
   "outputs": [],
   "source": [
    "from langchain.chat_models import ChatOpenAI\n",
    "from langchain.agents import initialize_agent, Tool\n",
    "from langchain.agents import AgentType\n",
    "\n",
    "llm = ChatOpenAI(model=\"gpt-4\", temperature=0.0) # agent requires chat LLM\n",
    "        \n",
    "tools = [\n",
    "    Tool(\n",
    "        name=\"Search\",\n",
    "        func=bing_search.run,\n",
    "        description=\"useful to search the web to find answers\",\n",
    "    )\n",
    "]\n",
    "\n",
    "agent = initialize_agent(\n",
    "    tools, \n",
    "    llm, \n",
    "    agent=AgentType.OPENAI_FUNCTIONS, \n",
    "    memory=memory,\n",
    "    agent_kwargs=agent_kwargs,\n",
    "    verbose=True\n",
    ")"
   ]
  },
  {
   "cell_type": "code",
   "execution_count": null,
   "id": "fdbc06e1",
   "metadata": {},
   "outputs": [],
   "source": [
    "response = agent.run(\"Tell me about LangChain BingSearchAPIWrapper\", callbacks=[totals_cb])\n",
    "\n",
    "display(Markdown(response))"
   ]
  },
  {
   "cell_type": "code",
   "execution_count": null,
   "id": "267fe13d",
   "metadata": {},
   "outputs": [],
   "source": [
    "response = agent.run(\"How to set up Bing Search API to enable use of LangChain BingSearchAPIWrapper?\", callbacks=[totals_cb])\n",
    "\n",
    "display(Markdown(response))"
   ]
  },
  {
   "cell_type": "code",
   "execution_count": null,
   "id": "2b7a7eb4-3fbb-482c-9ced-bffe7c399e61",
   "metadata": {},
   "outputs": [],
   "source": [
    "response = agent.run(\"Develop a plan of actions using web search and execute it to answer following question: What other famous people where born in the hometown of the 10th person walking on the Moon?\", callbacks=[totals_cb])\n",
    "\n",
    "display(Markdown(response))"
   ]
  },
  {
   "cell_type": "code",
   "execution_count": null,
   "id": "f74af3b8",
   "metadata": {},
   "outputs": [],
   "source": [
    "print(totals_cb)"
   ]
  },
  {
   "cell_type": "code",
   "execution_count": null,
   "id": "cf7d7ffc",
   "metadata": {
    "jupyter": {
     "source_hidden": true
    }
   },
   "outputs": [],
   "source": []
  }
 ],
 "metadata": {
  "kernelspec": {
   "display_name": "Python 3 (ipykernel)",
   "language": "python",
   "name": "python3"
  },
  "language_info": {
   "codemirror_mode": {
    "name": "ipython",
    "version": 3
   },
   "file_extension": ".py",
   "mimetype": "text/x-python",
   "name": "python",
   "nbconvert_exporter": "python",
   "pygments_lexer": "ipython3",
   "version": "3.11.4"
  }
 },
 "nbformat": 4,
 "nbformat_minor": 5
}
