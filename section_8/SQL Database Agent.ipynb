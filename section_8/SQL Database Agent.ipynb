{
 "cells": [
  {
   "cell_type": "markdown",
   "id": "1a24e68e",
   "metadata": {},
   "source": [
    "# SQL Database Agent"
   ]
  },
  {
   "cell_type": "code",
   "execution_count": null,
   "id": "7de33e8e",
   "metadata": {},
   "outputs": [],
   "source": [
    "import os\n",
    "import openai\n",
    "from IPython.display import display, HTML, Markdown\n",
    "from pprint import pprint\n",
    "\n",
    "from dotenv import load_dotenv, find_dotenv\n",
    "_ = load_dotenv(find_dotenv()) # read local .env file\n",
    "openai.api_key = os.environ['OPENAI_API_KEY']"
   ]
  },
  {
   "cell_type": "code",
   "execution_count": null,
   "id": "997dd952",
   "metadata": {},
   "outputs": [],
   "source": [
    "from langchain.callbacks import OpenAICallbackHandler\n",
    "\n",
    "totals_cb = OpenAICallbackHandler()\n",
    "\n",
    "print(totals_cb)"
   ]
  },
  {
   "cell_type": "markdown",
   "id": "0d7640f5",
   "metadata": {},
   "source": [
    "### Create an example SQL Database\n",
    "\n",
    "This notebook uses an example SQL Database implemented with SQLite3.\n",
    "\n",
    "Database schema and data are created using scripts from [The Sakila example database repo](https://github.com/jOOQ/sakila)\n",
    "\n",
    "[Sakila docs at dev.mysql.com](https://dev.mysql.com/doc/sakila/en/)"
   ]
  },
  {
   "cell_type": "code",
   "execution_count": null,
   "id": "6d94978f",
   "metadata": {},
   "outputs": [],
   "source": [
    "!rm -rf sakila\n",
    "!git clone https://github.com/jOOQ/sakila"
   ]
  },
  {
   "cell_type": "code",
   "execution_count": null,
   "id": "3737f54e",
   "metadata": {},
   "outputs": [],
   "source": [
    "%%bash\n",
    "rm -f sqlite-sakila.db\n",
    "cat << EOF | sqlite3\n",
    ".open sqlite-sakila.db\n",
    ".read sakila/sqlite-sakila-db/sqlite-sakila-schema.sql\n",
    ".read sakila/sqlite-sakila-db/sqlite-sakila-insert-data.sql\n",
    "EOF\n",
    "ls -l sqlite-sakila.db"
   ]
  },
  {
   "cell_type": "code",
   "execution_count": null,
   "id": "468607a9",
   "metadata": {},
   "outputs": [],
   "source": [
    "from langchain.chat_models import ChatOpenAI\n",
    "from langchain.sql_database import SQLDatabase\n",
    "from langchain.agents.agent_toolkits import SQLDatabaseToolkit\n",
    "\n",
    "db = SQLDatabase.from_uri(\"sqlite:///sqlite-sakila.db\")\n",
    "toolkit = SQLDatabaseToolkit(db=db, llm=ChatOpenAI(model=\"gpt-4\", temperature=0))"
   ]
  },
  {
   "cell_type": "code",
   "execution_count": null,
   "id": "ce814615",
   "metadata": {},
   "outputs": [],
   "source": [
    "from langchain.memory import ConversationBufferWindowMemory\n",
    "from langchain.chat_models import ChatOpenAI\n",
    "from langchain.prompts import MessagesPlaceholder\n",
    "\n",
    "memory = ConversationBufferWindowMemory(k=3, memory_key=\"chat_history\", return_messages=True)\n",
    "\n",
    "agent_kwargs = {\n",
    "    \"extra_prompt_messages\": [MessagesPlaceholder(variable_name=\"chat_history\")],\n",
    "}"
   ]
  },
  {
   "cell_type": "markdown",
   "id": "0008a3b4",
   "metadata": {},
   "source": [
    "`create_sql_agent` [API reference](https://api.python.langchain.com/en/latest/agents/langchain.agents.agent_toolkits.sql.base.create_sql_agent.html)"
   ]
  },
  {
   "cell_type": "code",
   "execution_count": null,
   "id": "a15c67b9",
   "metadata": {},
   "outputs": [],
   "source": [
    "from langchain.agents import create_sql_agent\n",
    "from langchain.agents.agent_types import AgentType\n",
    "\n",
    "agent_executor_kwargs = {\n",
    "    \"handle_parsing_errors\": True\n",
    "}\n",
    "\n",
    "agent = create_sql_agent(\n",
    "    llm=ChatOpenAI(model=\"gpt-4\", temperature=0.0),\n",
    "    toolkit=toolkit,\n",
    "    memory=memory,\n",
    "    verbose=True,\n",
    "    agent_type=AgentType.OPENAI_FUNCTIONS,\n",
    "    agent_executor_kwargs=agent_executor_kwargs,\n",
    ")"
   ]
  },
  {
   "cell_type": "code",
   "execution_count": null,
   "id": "20ee9fcd",
   "metadata": {},
   "outputs": [],
   "source": [
    "response = agent.run(\"Describe tables\", callbacks=[totals_cb])\n",
    "\n",
    "display(Markdown(response))"
   ]
  },
  {
   "cell_type": "code",
   "execution_count": null,
   "id": "5cfff9bd",
   "metadata": {},
   "outputs": [],
   "source": [
    "response = agent.run(\"Show film categories\", callbacks=[totals_cb])\n",
    "\n",
    "display(Markdown(response))"
   ]
  },
  {
   "cell_type": "code",
   "execution_count": null,
   "id": "67ec82de",
   "metadata": {},
   "outputs": [],
   "source": [
    "response = agent.run(\"Which films are currently rented?\", callbacks=[totals_cb])\n",
    "\n",
    "display(Markdown(response))"
   ]
  },
  {
   "cell_type": "code",
   "execution_count": null,
   "id": "128eeb56",
   "metadata": {},
   "outputs": [],
   "source": [
    "response = agent.run(\"Who has rented film HYDE DOCTOR most recently?\", callbacks=[totals_cb])\n",
    "\n",
    "display(Markdown(response))"
   ]
  },
  {
   "cell_type": "code",
   "execution_count": null,
   "id": "be1609c6",
   "metadata": {},
   "outputs": [],
   "source": [
    "print(totals_cb)"
   ]
  },
  {
   "cell_type": "code",
   "execution_count": null,
   "id": "ebf8e231",
   "metadata": {
    "jupyter": {
     "source_hidden": true
    }
   },
   "outputs": [],
   "source": []
  }
 ],
 "metadata": {
  "kernelspec": {
   "display_name": "Python 3 (ipykernel)",
   "language": "python",
   "name": "python3"
  },
  "language_info": {
   "codemirror_mode": {
    "name": "ipython",
    "version": 3
   },
   "file_extension": ".py",
   "mimetype": "text/x-python",
   "name": "python",
   "nbconvert_exporter": "python",
   "pygments_lexer": "ipython3",
   "version": "3.11.4"
  }
 },
 "nbformat": 4,
 "nbformat_minor": 5
}
