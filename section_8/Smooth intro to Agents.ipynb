{
 "cells": [
  {
   "cell_type": "markdown",
   "id": "6bf1899e",
   "metadata": {},
   "source": [
    "# Smooth intro to Agents"
   ]
  },
  {
   "cell_type": "markdown",
   "id": "8dfd0e81-97f2-4cf7-a758-9111dc72c6a6",
   "metadata": {},
   "source": [
    "### Research papers introducing the foundation of Agents:\n",
    "\n",
    "- [REACT: SYNERGIZING REASONING AND ACTING IN\n",
    "LANGUAGE MODELS](https://arxiv.org/pdf/2210.03629.pdf) March 2023\n",
    "- [Plan-and-Solve Prompting: Improving Zero-Shot Chain-of-Thought\n",
    "Reasoning by Large Language Models](https://arxiv.org/pdf/2210.03629.pdf) May 2023"
   ]
  },
  {
   "cell_type": "code",
   "execution_count": null,
   "id": "3fb5e35c",
   "metadata": {},
   "outputs": [],
   "source": [
    "import os\n",
    "import openai\n",
    "from IPython.display import display, HTML, Markdown\n",
    "from pprint import pprint\n",
    "\n",
    "from dotenv import load_dotenv, find_dotenv\n",
    "_ = load_dotenv(find_dotenv()) # read local .env file\n",
    "openai.api_key = os.environ['OPENAI_API_KEY']"
   ]
  },
  {
   "cell_type": "code",
   "execution_count": null,
   "id": "37250465",
   "metadata": {},
   "outputs": [],
   "source": [
    "from langchain.callbacks import OpenAICallbackHandler\n",
    "\n",
    "totals_cb = OpenAICallbackHandler()\n",
    "\n",
    "print(totals_cb)"
   ]
  },
  {
   "cell_type": "code",
   "execution_count": null,
   "id": "5d4a6853",
   "metadata": {},
   "outputs": [],
   "source": [
    "from langchain.chat_models import ChatOpenAI\n",
    "from langchain.chains import LLMChain\n",
    "from langchain.prompts import ChatPromptTemplate\n",
    "\n",
    "simple_chain = LLMChain(\n",
    "    llm=ChatOpenAI(temperature=0.0),\n",
    "    prompt=ChatPromptTemplate.from_template(\"{prompt}\")\n",
    ")"
   ]
  },
  {
   "cell_type": "code",
   "execution_count": null,
   "id": "e85345ce",
   "metadata": {},
   "outputs": [],
   "source": [
    "response = simple_chain(\"What day of a week is today?\", callbacks=[totals_cb])['text']\n",
    "\n",
    "print(response)"
   ]
  },
  {
   "cell_type": "code",
   "execution_count": null,
   "id": "5f93a03e",
   "metadata": {},
   "outputs": [],
   "source": [
    "import datetime\n",
    "\n",
    "print(datetime.datetime.now().strftime(\"%A\"))"
   ]
  },
  {
   "cell_type": "code",
   "execution_count": null,
   "id": "e7078c8d",
   "metadata": {},
   "outputs": [],
   "source": [
    "from langchain.agents import tool\n",
    "import datetime\n",
    "\n",
    "@tool\n",
    "def get_weekday(input:str) -> str:\n",
    "    \"\"\"Useful to find a weekday of today's date\"\"\"\n",
    "    return datetime.datetime.now().strftime(\"%A\")"
   ]
  },
  {
   "cell_type": "code",
   "execution_count": null,
   "id": "7945eeda",
   "metadata": {},
   "outputs": [],
   "source": [
    "pprint(get_weekday)"
   ]
  },
  {
   "cell_type": "code",
   "execution_count": null,
   "id": "74dfe38b",
   "metadata": {},
   "outputs": [],
   "source": [
    "from langchain.chat_models import ChatOpenAI\n",
    "from langchain.agents import initialize_agent, AgentType\n",
    "\n",
    "llm = ChatOpenAI(temperature=0.0)\n",
    "\n",
    "tools = [\n",
    "    get_weekday\n",
    "]\n",
    "\n",
    "agent = initialize_agent(tools, llm, agent=AgentType.ZERO_SHOT_REACT_DESCRIPTION, verbose=True)"
   ]
  },
  {
   "cell_type": "code",
   "execution_count": null,
   "id": "d2dd71f6",
   "metadata": {},
   "outputs": [],
   "source": [
    "agent.run(\"What day of a week is today?\", callbacks=[totals_cb])"
   ]
  },
  {
   "cell_type": "code",
   "execution_count": null,
   "id": "194d4246-d4c0-47cb-9327-79f8c13acd02",
   "metadata": {},
   "outputs": [],
   "source": [
    "pprint(agent.agent.llm_chain.prompt)"
   ]
  },
  {
   "cell_type": "code",
   "execution_count": null,
   "id": "a2f9658a-91e8-4e85-9f97-41f7ca174c55",
   "metadata": {},
   "outputs": [],
   "source": [
    "print(agent.agent.llm_chain.prompt.template)"
   ]
  },
  {
   "cell_type": "markdown",
   "id": "a7aa8bc0-fef6-4a94-87d8-420b470c6ba4",
   "metadata": {},
   "source": [
    "---"
   ]
  },
  {
   "cell_type": "markdown",
   "id": "7b3eff02-7780-414e-bbbe-e2557577515a",
   "metadata": {},
   "source": [
    "![Image](./Smooth_intro_to_agents.001.jpeg)"
   ]
  },
  {
   "cell_type": "code",
   "execution_count": null,
   "id": "6fad920a",
   "metadata": {},
   "outputs": [],
   "source": [
    "agent.run(\"What is the GPT-4 release date?\", callbacks=[totals_cb])"
   ]
  },
  {
   "cell_type": "code",
   "execution_count": null,
   "id": "4f9b4eae",
   "metadata": {},
   "outputs": [],
   "source": [
    "from langchain.tools import DuckDuckGoSearchRun\n",
    "\n",
    "search = DuckDuckGoSearchRun()\n",
    "\n",
    "pprint(search)"
   ]
  },
  {
   "cell_type": "code",
   "execution_count": null,
   "id": "a74b7ea1",
   "metadata": {},
   "outputs": [],
   "source": [
    "search.run(\"GPT-4 release date\")"
   ]
  },
  {
   "cell_type": "code",
   "execution_count": null,
   "id": "963b78bc",
   "metadata": {},
   "outputs": [],
   "source": [
    "tools = [\n",
    "    get_weekday,\n",
    "    search,\n",
    "]\n",
    "\n",
    "agent = initialize_agent(tools, llm, agent=AgentType.ZERO_SHOT_REACT_DESCRIPTION, verbose=True)"
   ]
  },
  {
   "cell_type": "code",
   "execution_count": null,
   "id": "f2714390",
   "metadata": {},
   "outputs": [],
   "source": [
    "agent.run(\"What day of a week is today?\", callbacks=[totals_cb])"
   ]
  },
  {
   "cell_type": "code",
   "execution_count": null,
   "id": "216f8051",
   "metadata": {},
   "outputs": [],
   "source": [
    "agent.run(\"What is the GPT-4 release date?\", callbacks=[totals_cb])"
   ]
  },
  {
   "cell_type": "code",
   "execution_count": null,
   "id": "2bb531aa",
   "metadata": {},
   "outputs": [],
   "source": [
    "print(totals_cb)"
   ]
  },
  {
   "cell_type": "code",
   "execution_count": null,
   "id": "b7f5e8e4",
   "metadata": {
    "jupyter": {
     "source_hidden": true
    }
   },
   "outputs": [],
   "source": []
  }
 ],
 "metadata": {
  "kernelspec": {
   "display_name": "Python 3 (ipykernel)",
   "language": "python",
   "name": "python3"
  },
  "language_info": {
   "codemirror_mode": {
    "name": "ipython",
    "version": 3
   },
   "file_extension": ".py",
   "mimetype": "text/x-python",
   "name": "python",
   "nbconvert_exporter": "python",
   "pygments_lexer": "ipython3",
   "version": "3.11.4"
  }
 },
 "nbformat": 4,
 "nbformat_minor": 5
}
