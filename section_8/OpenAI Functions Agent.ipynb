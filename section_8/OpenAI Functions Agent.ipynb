{
 "cells": [
  {
   "cell_type": "markdown",
   "id": "7243e027",
   "metadata": {},
   "source": [
    "# OpenAI Functions Agent"
   ]
  },
  {
   "cell_type": "code",
   "execution_count": null,
   "id": "c4599634",
   "metadata": {},
   "outputs": [],
   "source": [
    "import os\n",
    "import openai\n",
    "from IPython.display import display, HTML, Markdown\n",
    "from pprint import pprint\n",
    "\n",
    "from dotenv import load_dotenv, find_dotenv\n",
    "_ = load_dotenv(find_dotenv()) # read local .env file\n",
    "openai.api_key = os.environ['OPENAI_API_KEY']"
   ]
  },
  {
   "cell_type": "code",
   "execution_count": null,
   "id": "aa36aade",
   "metadata": {},
   "outputs": [],
   "source": [
    "from langchain.callbacks import OpenAICallbackHandler\n",
    "\n",
    "totals_cb = OpenAICallbackHandler()\n",
    "\n",
    "print(totals_cb)"
   ]
  },
  {
   "cell_type": "code",
   "execution_count": null,
   "id": "d07d4c61",
   "metadata": {},
   "outputs": [],
   "source": [
    "from uuid import uuid4\n",
    "from langchainplus_sdk import LangChainPlusClient\n",
    "\n",
    "unique_id = uuid4().hex[0:8]\n",
    "os.environ[\"LANGCHAIN_TRACING_V2\"] = \"true\"\n",
    "os.environ[\"LANGCHAIN_PROJECT\"] = f\"OpenAI Functions Agent - {unique_id}\"\n",
    "\n",
    "client = LangChainPlusClient()\n",
    "\n",
    "print(\"You can click the link below to view the UI\")\n",
    "\n",
    "client"
   ]
  },
  {
   "cell_type": "markdown",
   "id": "2ea8ac82",
   "metadata": {},
   "source": [
    "Check OpenAI article [Function calling and other API updates](https://openai.com/blog/function-calling-and-other-api-updates) to read about implementation details"
   ]
  },
  {
   "cell_type": "code",
   "execution_count": null,
   "id": "493d05d1",
   "metadata": {},
   "outputs": [],
   "source": [
    "from langchain.agents import tool\n",
    "import datetime\n",
    "\n",
    "@tool\n",
    "def get_weekday() -> str:\n",
    "    \"\"\"Returns weekday of today's date. No input accepted.\"\"\"\n",
    "    return datetime.datetime.now().strftime(\"%A\")"
   ]
  },
  {
   "cell_type": "code",
   "execution_count": null,
   "id": "a5f0e98e",
   "metadata": {},
   "outputs": [],
   "source": [
    "pprint(get_weekday)"
   ]
  },
  {
   "cell_type": "code",
   "execution_count": null,
   "id": "d143ce08",
   "metadata": {},
   "outputs": [],
   "source": [
    "from langchain.chat_models import ChatOpenAI\n",
    "from langchain.agents import initialize_agent\n",
    "from langchain.agents import AgentType\n",
    "from langchain.tools import DuckDuckGoSearchRun\n",
    "\n",
    "llm = ChatOpenAI() # must be chat LLM\n",
    "\n",
    "search = DuckDuckGoSearchRun()\n",
    "\n",
    "\n",
    "tools = [\n",
    "    get_weekday,\n",
    "    search\n",
    "]\n",
    "\n",
    "agent = initialize_agent(tools, llm, agent=AgentType.OPENAI_FUNCTIONS, verbose=True)"
   ]
  },
  {
   "cell_type": "code",
   "execution_count": null,
   "id": "c6dc4952",
   "metadata": {},
   "outputs": [],
   "source": [
    "agent.run(\"What day of a week is today?\", callbacks=[totals_cb])"
   ]
  },
  {
   "cell_type": "code",
   "execution_count": null,
   "id": "8ee96e43",
   "metadata": {
    "scrolled": true
   },
   "outputs": [],
   "source": [
    "agent.run(\"When Apollo 11 landed on the Moon?\", callbacks=[totals_cb])"
   ]
  },
  {
   "cell_type": "code",
   "execution_count": null,
   "id": "b2795564",
   "metadata": {},
   "outputs": [],
   "source": [
    "agent.run(\"Who was the 11th person to walk on the Moon?\", callbacks=[totals_cb])"
   ]
  },
  {
   "cell_type": "code",
   "execution_count": null,
   "id": "b7d024f6",
   "metadata": {},
   "outputs": [],
   "source": [
    "print(totals_cb)"
   ]
  },
  {
   "cell_type": "code",
   "execution_count": null,
   "id": "3b636799",
   "metadata": {
    "jupyter": {
     "source_hidden": true
    }
   },
   "outputs": [],
   "source": []
  }
 ],
 "metadata": {
  "kernelspec": {
   "display_name": "Python 3 (ipykernel)",
   "language": "python",
   "name": "python3"
  },
  "language_info": {
   "codemirror_mode": {
    "name": "ipython",
    "version": 3
   },
   "file_extension": ".py",
   "mimetype": "text/x-python",
   "name": "python",
   "nbconvert_exporter": "python",
   "pygments_lexer": "ipython3",
   "version": "3.11.4"
  }
 },
 "nbformat": 4,
 "nbformat_minor": 5
}
