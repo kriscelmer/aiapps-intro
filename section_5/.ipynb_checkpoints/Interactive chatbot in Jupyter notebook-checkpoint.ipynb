{
 "cells": [
  {
   "cell_type": "markdown",
   "id": "cafe113b",
   "metadata": {},
   "source": [
    "# Interactive chatbot in Jupyter notebook"
   ]
  },
  {
   "cell_type": "code",
   "execution_count": null,
   "id": "09113ec7",
   "metadata": {},
   "outputs": [],
   "source": [
    "import os\n",
    "import openai\n",
    "from IPython.display import display, HTML, Markdown\n",
    "from pprint import pprint\n",
    "\n",
    "from dotenv import load_dotenv, find_dotenv\n",
    "_ = load_dotenv(find_dotenv()) # read local .env file\n",
    "\n",
    "openai.api_key = os.environ['OPENAI_API_KEY']"
   ]
  },
  {
   "cell_type": "code",
   "execution_count": null,
   "id": "384d5cb0",
   "metadata": {},
   "outputs": [],
   "source": [
    "from langchain.callbacks import OpenAICallbackHandler\n",
    "\n",
    "totals_cb = OpenAICallbackHandler()\n",
    "\n",
    "print(totals_cb)"
   ]
  },
  {
   "cell_type": "markdown",
   "id": "0175f1fe",
   "metadata": {},
   "source": [
    "Inspired by https://www.gradio.app/guides/creating-a-custom-chatbot-with-blocks\n",
    "\n",
    "Alternative to Gradio: [ChatBox in Panel](https://panel.holoviz.org/reference/widgets/ChatBox.html)"
   ]
  },
  {
   "cell_type": "code",
   "execution_count": null,
   "id": "ea214bc1-5cfc-4fb0-9ba8-e6c0f362002c",
   "metadata": {},
   "outputs": [],
   "source": [
    "from langchain.chat_models import ChatOpenAI\n",
    "from langchain.chains import ConversationChain\n",
    "\n",
    "conversation_chain = ConversationChain(\n",
    "    llm=ChatOpenAI(temperature=0.0)\n",
    ")"
   ]
  },
  {
   "cell_type": "code",
   "execution_count": null,
   "id": "dbde388d",
   "metadata": {},
   "outputs": [],
   "source": [
    "import gradio as gr\n",
    "\n",
    "with gr.Blocks() as demo:\n",
    "    gr.HTML(\"<h1>Chatbot with LangChain's ConversationChain.</h1>\")\n",
    "    \n",
    "    chat_bot = gr.Chatbot()\n",
    "    human_input = gr.Textbox(label=\"Human question - hit Enter to submit...\")\n",
    "    gr.HTML(\"<hr>\")\n",
    "    \n",
    "    clear_bt = gr.ClearButton([human_input, chat_bot], value=\"Clear chat history\")\n",
    "    clear_bt.click(conversation_chain.memory.clear)\n",
    "\n",
    "    def respond(question, chat_bot):\n",
    "        response = conversation_chain(question, callbacks=[totals_cb])['response']\n",
    "        chat_bot.append((question, response))\n",
    "        return \"\", chat_bot\n",
    "\n",
    "    # react to Enter key in human_input\n",
    "    human_input.submit(respond, [human_input, chat_bot], [human_input, chat_bot])\n",
    "\n",
    "demo.launch()"
   ]
  },
  {
   "cell_type": "code",
   "execution_count": null,
   "id": "7bc26bab",
   "metadata": {},
   "outputs": [],
   "source": [
    "print(totals_cb)"
   ]
  },
  {
   "cell_type": "code",
   "execution_count": null,
   "id": "73805795",
   "metadata": {
    "jupyter": {
     "source_hidden": true
    }
   },
   "outputs": [],
   "source": []
  }
 ],
 "metadata": {
  "kernelspec": {
   "display_name": "Python 3 (ipykernel)",
   "language": "python",
   "name": "python3"
  },
  "language_info": {
   "codemirror_mode": {
    "name": "ipython",
    "version": 3
   },
   "file_extension": ".py",
   "mimetype": "text/x-python",
   "name": "python",
   "nbconvert_exporter": "python",
   "pygments_lexer": "ipython3",
   "version": "3.11.4"
  }
 },
 "nbformat": 4,
 "nbformat_minor": 5
}
