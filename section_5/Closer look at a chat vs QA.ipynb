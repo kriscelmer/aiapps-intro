{
 "cells": [
  {
   "cell_type": "markdown",
   "id": "b9bcf440",
   "metadata": {},
   "source": [
    "# Closer look at a chat vs QA"
   ]
  },
  {
   "cell_type": "code",
   "execution_count": null,
   "id": "2a156581",
   "metadata": {},
   "outputs": [],
   "source": [
    "import os\n",
    "import openai\n",
    "from IPython.display import display, HTML, Markdown\n",
    "from pprint import pprint\n",
    "\n",
    "from dotenv import load_dotenv, find_dotenv\n",
    "_ = load_dotenv(find_dotenv()) # read local .env file\n",
    "openai.api_key = os.environ['OPENAI_API_KEY']"
   ]
  },
  {
   "cell_type": "code",
   "execution_count": null,
   "id": "8bcb3c3a",
   "metadata": {},
   "outputs": [],
   "source": [
    "from langchain.callbacks import OpenAICallbackHandler\n",
    "\n",
    "totals_cb = OpenAICallbackHandler()\n",
    "\n",
    "print(totals_cb)"
   ]
  },
  {
   "cell_type": "code",
   "execution_count": null,
   "id": "accda6e8-16f0-40d2-99d6-e99dc897b496",
   "metadata": {},
   "outputs": [],
   "source": [
    "import tiktoken\n",
    "\n",
    "encoding = tiktoken.encoding_for_model(\"gpt-3.5-turbo\")\n",
    "\n",
    "count_tokens = lambda string: len(encoding.encode(string))"
   ]
  },
  {
   "cell_type": "code",
   "execution_count": null,
   "id": "59fc037d",
   "metadata": {},
   "outputs": [],
   "source": [
    "from langchain.chat_models import ChatOpenAI\n",
    "from langchain.chains import LLMChain\n",
    "from langchain.prompts import ChatPromptTemplate\n",
    "\n",
    "simple_chain = LLMChain(\n",
    "    llm=ChatOpenAI(temperature=0.0),\n",
    "    prompt=ChatPromptTemplate.from_template(\"{prompt}\")\n",
    ")\n",
    "\n",
    "get_response = lambda x: simple_chain(x, callbacks=[totals_cb])['text']"
   ]
  },
  {
   "cell_type": "code",
   "execution_count": null,
   "id": "d0777329",
   "metadata": {},
   "outputs": [],
   "source": [
    "response = get_response(\"What is the most popular container data structure in Python?\")\n",
    "\n",
    "display(Markdown(response))"
   ]
  },
  {
   "cell_type": "code",
   "execution_count": null,
   "id": "1ef28ddc",
   "metadata": {},
   "outputs": [],
   "source": [
    "response = get_response(\"Tell me more about it\")\n",
    "\n",
    "display(Markdown(response))"
   ]
  },
  {
   "cell_type": "markdown",
   "id": "37bbb28f-a271-4312-8658-d5cdf28d86a1",
   "metadata": {},
   "source": [
    "### Building up the conversation"
   ]
  },
  {
   "cell_type": "code",
   "execution_count": null,
   "id": "f6ec3929",
   "metadata": {},
   "outputs": [],
   "source": [
    "conversation = \"\"\"\n",
    "Human: What is the most popular container data structure in Python?\n",
    "\n",
    "AI: \"\"\"\n",
    "\n",
    "print(f\"Conversation has {count_tokens(conversation)} tokens.\\n\")\n",
    "\n",
    "response = get_response(conversation)\n",
    "\n",
    "display(Markdown(response))"
   ]
  },
  {
   "cell_type": "code",
   "execution_count": null,
   "id": "fb922e5c",
   "metadata": {},
   "outputs": [],
   "source": [
    "conversation += response\n",
    "conversation += \"\\n\\nHuman: Tell me more about it\\n\\nAI: \"\n",
    "\n",
    "display(Markdown(conversation))\n",
    "\n",
    "print(f\"\\n\\n---Conversation has {count_tokens(conversation)} tokens.\")"
   ]
  },
  {
   "cell_type": "code",
   "execution_count": null,
   "id": "ca71c375",
   "metadata": {},
   "outputs": [],
   "source": [
    "response = get_response(conversation)\n",
    "\n",
    "display(Markdown(response))"
   ]
  },
  {
   "cell_type": "code",
   "execution_count": null,
   "id": "701879bc",
   "metadata": {},
   "outputs": [],
   "source": [
    "conversation += response\n",
    "conversation += \"\\n\\nHuman: Is there a quick way to display last element?\\n\\nAI: \"\n",
    "\n",
    "display(Markdown(conversation))\n",
    "\n",
    "print(f\"\\n\\n---Conversation has {count_tokens(conversation)} tokens.\")"
   ]
  },
  {
   "cell_type": "code",
   "execution_count": null,
   "id": "948c7e6b",
   "metadata": {},
   "outputs": [],
   "source": [
    "response = get_response(conversation)\n",
    "\n",
    "display(Markdown(response))"
   ]
  },
  {
   "cell_type": "code",
   "execution_count": null,
   "id": "8492bf4c",
   "metadata": {},
   "outputs": [],
   "source": [
    "conversation += response\n",
    "conversation += \"\\n\\nHuman: How to read a CSV file using Python Standard Library?\\n\\nAI: \"\n",
    "\n",
    "display(Markdown(conversation))\n",
    "\n",
    "print(f\"\\n\\n---Conversation has {count_tokens(conversation)} tokens.\")"
   ]
  },
  {
   "cell_type": "code",
   "execution_count": null,
   "id": "6db04a09",
   "metadata": {},
   "outputs": [],
   "source": [
    "response = get_response(conversation)\n",
    "\n",
    "display(Markdown(response))"
   ]
  },
  {
   "cell_type": "code",
   "execution_count": null,
   "id": "d13ef546",
   "metadata": {},
   "outputs": [],
   "source": [
    "print(totals_cb)"
   ]
  },
  {
   "cell_type": "code",
   "execution_count": null,
   "id": "b62a1f59",
   "metadata": {
    "jupyter": {
     "source_hidden": true
    }
   },
   "outputs": [],
   "source": []
  }
 ],
 "metadata": {
  "kernelspec": {
   "display_name": "Python 3 (ipykernel)",
   "language": "python",
   "name": "python3"
  },
  "language_info": {
   "codemirror_mode": {
    "name": "ipython",
    "version": 3
   },
   "file_extension": ".py",
   "mimetype": "text/x-python",
   "name": "python",
   "nbconvert_exporter": "python",
   "pygments_lexer": "ipython3",
   "version": "3.11.4"
  }
 },
 "nbformat": 4,
 "nbformat_minor": 5
}
